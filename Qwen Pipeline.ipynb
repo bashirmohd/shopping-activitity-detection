{
 "cells": [
  {
   "cell_type": "code",
   "execution_count": null,
   "id": "1c620acd-18ab-4824-ad84-f8fe3bd3f3e3",
   "metadata": {},
   "outputs": [],
   "source": [
    "# pip install numpy==1.24.4 Pillow==10.3.0 Requests==2.31.0 torch torchvision opencv-python 'numpy<2' 'moviepy==1.0' accelerate 'jinja2>3.1' qwen-vl-utils av git+https://github.com/huggingface/transformers.git\n",
    "# pip install git+https://github.com/huggingface/transformers@21fac7abba2a37fae86106f87fcf9974fd1e3830 accelerate\n",
    "# pip install ultralytics supervision\n",
    "# pip install pybind11\n",
    "# sudo apt-get install build-essential\n",
    "# sudo apt-get install python3-dev\n",
    "# python -m pip install 'git+https://github.com/facebookresearch/detectron2.git'"
   ]
  },
  {
   "cell_type": "markdown",
   "id": "0fdc08f4-f94e-49da-a358-06fff3822cf6",
   "metadata": {},
   "source": [
    "# Step 1: Detect a person in region of interest e.g. checkout area\n",
    "Using YOLOv8, we can define a region of interest, so analysis can start when a person is in that zone"
   ]
  },
  {
   "cell_type": "code",
   "execution_count": null,
   "id": "337d1744-2dac-47bb-9d33-048905355314",
   "metadata": {},
   "outputs": [],
   "source": [
    "from IPython import display\n",
    "import ultralytics\n",
    "import supervision as sv\n",
    "import numpy as np"
   ]
  },
  {
   "cell_type": "code",
   "execution_count": 3,
   "id": "e54ec26c-6ca7-4f9d-8926-953582414445",
   "metadata": {},
   "outputs": [],
   "source": [
    "from ultralytics import YOLO\n",
    "model = YOLO('yolov8s.pt')"
   ]
  },
  {
   "cell_type": "code",
   "execution_count": 4,
   "id": "428e8ae1-45d9-4156-99cb-b719ffa9c940",
   "metadata": {},
   "outputs": [
    {
     "data": {
      "text/plain": [
       "VideoInfo(width=1080, height=1920, fps=30, total_frames=302)"
      ]
     },
     "execution_count": 4,
     "metadata": {},
     "output_type": "execute_result"
    }
   ],
   "source": [
    "#Video processing and metedata about the video file\n",
    "ROOT_DIR = \"/home/ubuntu\" \n",
    "vid_path = \"video-3.mp4\"\n",
    "\n",
    "sv.VideoInfo.from_video_path(vid_path)"
   ]
  },
  {
   "cell_type": "code",
   "execution_count": 5,
   "id": "d5b2ee69-7574-453b-8cea-78488fe36ff7",
   "metadata": {},
   "outputs": [],
   "source": [
    "#process a video frame by frame, \n",
    "#perform object detection using the YOLO model,&\n",
    "#annotate the frames with detection boxes, labels, and trigger actions based on a polygon zone.\n",
    "\n",
    "# initiate polygon zone\n",
    "polygon = np.array([(900, 0), (1080, 0), (1080, 1920), (100, 1920)])\n",
    "\n",
    "video_info = sv.VideoInfo.from_video_path(f\"{ROOT_DIR}/{vid_path}\")   # This uses the VideoInfo class from the supervision library (sv) to retrieve metadata from the video file located at the path specified \n",
    "zone = sv.PolygonZone(polygon=polygon) # initializes a Polygon Zone, which is a region of interest (ROI) in the video frame defined by the previously created polygon.\n",
    "\n",
    "# initiate annotators\n",
    "box_annotator = sv.BoxAnnotator(thickness=4)\n",
    "label_annotator = sv.LabelAnnotator(text_thickness=4, text_scale=2)\n",
    "zone_annotator = sv.PolygonZoneAnnotator(zone=zone, color=sv.Color.WHITE, thickness=6, text_thickness=6, text_scale=4)\n",
    "\n",
    "def process_frame(frame: np.ndarray, _) -> np.ndarray:\n",
    "    # detect\n",
    "    results = model(frame, imgsz=320)[0]\n",
    "    detections = sv.Detections.from_ultralytics(results)\n",
    "    detections = detections[detections.class_id == 0]\n",
    "    zone.trigger(detections=detections)\n",
    "\n",
    "    # annotate\n",
    "    labels = [f\"{model.names[class_id]} {confidence:0.2f}\" for _, _, confidence, class_id, _, _ in detections]\n",
    "    frame = box_annotator.annotate(scene=frame, detections=detections)\n",
    "    frame = label_annotator.annotate(scene=frame, detections=detections, labels=labels)\n",
    "    frame = zone_annotator.annotate(scene=frame)\n",
    "\n",
    "    return frame\n",
    "\n",
    "sv.process_video(source_path=vid_path, target_path=f\"{ROOT_DIR}/out_{vid_path}\", callback=process_frame)\n",
    "\n",
    "from IPython import display\n",
    "display.clear_output()"
   ]
  },
  {
   "cell_type": "markdown",
   "id": "4d3bfc4b-b047-4fab-aca3-e6d62a6c4d92",
   "metadata": {},
   "source": [
    "## Result\n",
    "\n",
    "By defining our **polygon coordinates** we create a zone of interest (the white box in the middle)\n",
    "\n",
    "We see that our count is zero in the left frame, where the customer has not entered the zone\n",
    "\n",
    "And the count increases to 1 as they enter\n",
    "\n",
    "Since we have this information programmtically, we can save the next 20 seconds of video feed to capture all the activities that happened. Only then do we need to analyze the occurrence, saving us on inference cost."
   ]
  },
  {
   "cell_type": "markdown",
   "id": "814a4502",
   "metadata": {},
   "source": [
    "Example scene 1\n",
    "<br>\n",
    "<p float=\"left\">\n",
    "  <img src=\"media/scene1-example1.png\" alt=\"Image 1\" width=\"45%\" style=\"margin-right: 5%;\" />\n",
    "  <img src=\"media/scene1-example2.png\" alt=\"Image 2\" width=\"45%\" />\n",
    "</p>"
   ]
  },
  {
   "cell_type": "markdown",
   "id": "9f978e4d",
   "metadata": {},
   "source": [
    "Example scene 2 \n",
    "<br>\n",
    "<img src=\"media/scene2-example.png\" alt=\"Image 2\" width=\"45%\" />"
   ]
  },
  {
   "cell_type": "markdown",
   "id": "8d14d521",
   "metadata": {},
   "source": [
    "Example scene 3\n",
    "<br>\n",
    "<p float=\"left\">\n",
    "  <img src=\"media/scene3-example1.png\" alt=\"Image 1\" width=\"45%\" style=\"margin-right: 5%;\" />\n",
    "  <img src=\"media/scene3-example2.png\" alt=\"Image 2\" width=\"45%\" />\n",
    "</p>"
   ]
  },
  {
   "cell_type": "markdown",
   "id": "decdefa1-8af8-43b6-8c34-2fac7b3cac43",
   "metadata": {},
   "source": [
    "Basically, we would need to map out the coordinates for every camera the client has"
   ]
  },
  {
   "cell_type": "markdown",
   "id": "23aaf779-bac6-440c-b025-61a44aeb0dd7",
   "metadata": {},
   "source": [
    "# Step 2: Ask the VLM to tell us if there is theft in the scene or not"
   ]
  },
  {
   "cell_type": "code",
   "execution_count": 3,
   "id": "2db69a24-a348-4bc5-9113-b1cf8eacd0d7",
   "metadata": {},
   "outputs": [
    {
     "name": "stderr",
     "output_type": "stream",
     "text": [
      "`Qwen2VLRotaryEmbedding` can now be fully parameterized by passing the model config through the `config` argument. All other arguments will be removed in v4.46\n",
      "Loading checkpoint shards: 100%|██████████| 5/5 [00:04<00:00,  1.24it/s]\n"
     ]
    }
   ],
   "source": [
    "from transformers import Qwen2VLForConditionalGeneration, AutoTokenizer, AutoProcessor\n",
    "from qwen_vl_utils import process_vision_info\n",
    "\n",
    "model = Qwen2VLForConditionalGeneration.from_pretrained(\n",
    "    \"Qwen/Qwen2-VL-7B-Instruct\", torch_dtype=\"auto\", device_map=\"auto\"\n",
    ")\n",
    "\n",
    "processor = AutoProcessor.from_pretrained(\"Qwen/Qwen2-VL-7B-Instruct\")"
   ]
  },
  {
   "cell_type": "markdown",
   "id": "4e021181-47a6-42dc-b720-0bb6eb935357",
   "metadata": {},
   "source": [
    "## Zero Shot\n",
    "\n",
    "In zero shot, we directly ask the model to tell us if there is any shoplifting in the video or not, without providing examples"
   ]
  },
  {
   "cell_type": "code",
   "execution_count": null,
   "id": "f2c4dce1-338d-4da4-92b9-d1e67d1dcab1",
   "metadata": {},
   "outputs": [
    {
     "name": "stdout",
     "output_type": "stream",
     "text": [
      "Yes\n",
      "Reason: The video shows a man stealing a wallet from a woman's purse in a store.\n",
      "\n",
      "Yes\n",
      "Reason: The video shows a man stealing a wallet from a woman's purse in a store.\n",
      "\n",
      "Yes\n",
      "Reason: The video shows a man stealing a wallet from a woman's purse in a store.\n",
      "\n",
      "Yes\n",
      "Reason: The video shows a man stealing a wallet from a woman's purse in a store.\n",
      "\n",
      "Yes\n",
      "Reason: The video shows a man stealing a wallet from a woman's purse in a store.\n",
      "\n"
     ]
    }
   ],
   "source": [
    "for _ in range(5):\n",
    "    messages = [\n",
    "        {\n",
    "            \"role\": \"user\",\n",
    "            \"content\": [\n",
    "                {\n",
    "                    \"type\": \"video\",\n",
    "                    \"video\": \"/home/ubuntu/shopping-activitity-detection/media/video-2.mp4\",\n",
    "                    \"max_pixels\": 360 * 420,\n",
    "                    \"fps\": 1.0,\n",
    "                },\n",
    "                {\n",
    "                    \"type\": \"text\", \n",
    "                    \"text\": \"\"\"\n",
    "                        Is there an indication of suspicious store activity in this video such as shoplifting or not. \n",
    "                        Reply with two fields\n",
    "                        answer: Yes or No\n",
    "                        reason: Your reason\n",
    "                        \"\"\"\n",
    "                },\n",
    "            ],\n",
    "        }\n",
    "    ]\n",
    "\n",
    "    # Prepare input for inference, only including video-3\n",
    "    text = processor.apply_chat_template(\n",
    "        messages, tokenize=False, add_generation_prompt=True\n",
    "    )\n",
    "\n",
    "    # Processing Vision inputs. Process only the user video (video-6) by passing the relevant part of `messages` directly\n",
    "    image_inputs, video_inputs = process_vision_info(messages)\n",
    "\n",
    "    # Preparing final inputs\n",
    "    inputs = processor(\n",
    "        text=[text],\n",
    "        images=image_inputs,\n",
    "        videos=video_inputs,\n",
    "        padding=True,\n",
    "        return_tensors=\"pt\",\n",
    "    )\n",
    "    inputs = inputs.to(\"cuda\")\n",
    "\n",
    "    # Model Inference\n",
    "    generated_ids = model.generate(**inputs, max_new_tokens=128)\n",
    "\n",
    "    #processing the output\n",
    "    generated_ids_trimmed = [\n",
    "        out_ids[len(in_ids):] for in_ids, out_ids in zip(inputs.input_ids, generated_ids)\n",
    "    ]\n",
    "    output_text = processor.batch_decode(\n",
    "        generated_ids_trimmed, skip_special_tokens=True, clean_up_tokenization_spaces=False\n",
    "    )\n",
    "\n",
    "    # Display the output\n",
    "    from IPython.display import Markdown\n",
    "    # Markdown(output_text[0].replace('\\n', '<br>'))\n",
    "    print(output_text[0])\n",
    "    print()"
   ]
  },
  {
   "cell_type": "markdown",
   "id": "6e60e41c",
   "metadata": {},
   "source": [
    "## Few Shot\n",
    "\n",
    "To perform few shot prompting, the model is provided with 2 or more examples\n",
    "\n",
    "Here, we mimic the typical user-assistant conversation flow and add the examples as the chat history. This is demonstrated below"
   ]
  },
  {
   "cell_type": "markdown",
   "id": "c1025f37",
   "metadata": {},
   "source": [
    "\n",
    "---\n",
    "\n",
    "<div align=\"right\">\n",
    "\n",
    "**User**  \n",
    "*Is there an indication of suspicious store activity in this video such as shoplifting or not. \n",
    "<br>Reply with two fields\n",
    "<br>answer: Yes or No\n",
    "<br>reason: Your reason\n",
    "<br>Video: 📽️*\n",
    "\n",
    "</div>\n",
    "\n",
    "---\n",
    "\n",
    "**Assistant**  \n",
    "*Yes <br> Reason: The man in the video is seen taking items from the cashier's drawer*  \n",
    "\n",
    "---\n",
    "\n",
    "<div align=\"right\">\n",
    "\n",
    "**User**  \n",
    "*Is there an indication of suspicious store activity in this video such as shoplifting or not. \n",
    "<br>Reply with two fields\n",
    "<br>answer: Yes or No\n",
    "<br>reason: Your reason\n",
    "<br>Video: 📽️*\n",
    "\n",
    "</div>\n",
    "\n",
    "---\n",
    "\n",
    "**Assistant**  \n",
    "*No <br> Reason: The video shows a man engaging in normal shopping activities with no signs of shoplifting*\n",
    "\n",
    "---\n",
    "\n",
    "<div align=\"right\">\n",
    "\n",
    "**User**  \n",
    "*Is there an indication of suspicious store activity in this video such as shoplifting or not. \n",
    "<br>Reply with two fields\n",
    "<br>answer: Yes or No\n",
    "<br>reason: Your reason\n",
    "<br>Video: 📽️*\n",
    "\n",
    "</div>\n",
    "\n",
    "---\n",
    "\n",
    "**Assistant**  \n",
    "\n",
    "\n",
    "---\n"
   ]
  },
  {
   "cell_type": "markdown",
   "id": "dc0e8b2e",
   "metadata": {},
   "source": [
    "With this history of the conversation that includes the **processed video data** and corresponding **manual responses** provided as context, the model continues its generation, leveraging on the examples to align its future outputs."
   ]
  },
  {
   "cell_type": "code",
   "execution_count": null,
   "id": "72e5522c",
   "metadata": {},
   "outputs": [
    {
     "name": "stdout",
     "output_type": "stream",
     "text": [
      "Yes\n",
      "Reason: The video shows a man stealing a bag from a woman's cart and running away\n",
      "\n",
      "Yes\n",
      "Reason: The video shows a man stealing a bag from a woman's cart and running away\n",
      "\n",
      "Yes\n",
      "Reason: The video shows a man stealing a bag from a woman's cart and running away\n",
      "\n",
      "Yes\n",
      "Reason: The video shows a man stealing a bag from a woman's cart and running away\n",
      "\n",
      "Yes\n",
      "Reason: The video shows a man stealing a bag from a woman's cart and running away\n",
      "\n"
     ]
    }
   ],
   "source": [
    "for _ in range(5):\n",
    "    messages = [\n",
    "        {\n",
    "            # ===================== Example One =====================\n",
    "            \"role\": \"user\",\n",
    "            \"content\": [\n",
    "                {\n",
    "                    \"type\": \"video\",\n",
    "                    \"video\": \"/home/ubuntu/shopping-activitity-detection/media/video-6.mp4\",\n",
    "                    \"max_pixels\": 360 * 420,\n",
    "                    \"fps\": 1.0,\n",
    "                },\n",
    "                {\n",
    "                    \"type\": \"text\", \n",
    "                    \"text\": \"\"\"Is there an indication of suspicious store activity in this video such as shoplifting or not. \n",
    "                        Reply with two fields\n",
    "                        answer: Yes or No\n",
    "                        reason: Your reason\"\"\"\n",
    "                },\n",
    "            ],\n",
    "        },\n",
    "        # ===================== Response One (Manually Added) =====================\n",
    "        {\n",
    "            \"role\": \"assistant\",\n",
    "            \"content\": [\n",
    "                {\n",
    "                    \"type\": \"text\", \n",
    "                    \"text\": \"\"\"Yes\\nReason: The video shows a man picking office supplies from a table and hiding them in his pockets in a suspicious manner\"\"\"\n",
    "                },\n",
    "            ],\n",
    "        },\n",
    "        # ===================== Example Two =====================\n",
    "        {\n",
    "            \"role\": \"user\",\n",
    "            \"content\": [\n",
    "                {\n",
    "                    \"type\": \"video\",\n",
    "                    \"video\": \"/home/ubuntu/shopping-activitity-detection/media/video-3.mp4\",\n",
    "                    \"max_pixels\": 360 * 420,\n",
    "                    \"fps\": 1.0,\n",
    "                },\n",
    "                {\n",
    "                    \"type\": \"text\", \n",
    "                    \"text\": \"\"\"Is there an indication of suspicious store activity in this video such as shoplifting or not. \n",
    "                        Reply with two fields\n",
    "                        answer: Yes or No\n",
    "                        reason: Your reason\"\"\"\n",
    "                },\n",
    "            ],\n",
    "        },\n",
    "        # ===================== Response Two (Manually Added) =====================\n",
    "        {\n",
    "            \"role\": \"assistant\",\n",
    "            \"content\": [\n",
    "                {\n",
    "                    \"type\": \"text\", \n",
    "                    \"text\": \"\"\"No\\nReason: The video shows one man casually shopping with a basket and another browsing items on the shelf, no strong signs of shoplifting\"\"\"\n",
    "                },\n",
    "            ],\n",
    "        },\n",
    "        # ===================== Query Video =====================\n",
    "        {\n",
    "            \"role\": \"user\",\n",
    "            \"content\": [\n",
    "                {\n",
    "                    \"type\": \"video\",\n",
    "                    \"video\": \"/home/ubuntu/shopping-activitity-detection/media/video-2.mp4\",\n",
    "                    \"max_pixels\": 360 * 420,\n",
    "                    \"fps\": 1.0,\n",
    "                },\n",
    "                {\n",
    "                    \"type\": \"text\", \n",
    "                    \"text\": \"\"\"\n",
    "                        Is there a strong indication of suspicious store activity in this video such as shoplifting or not. \n",
    "                        Reply with two fields\n",
    "                        answer: Yes or No\n",
    "                        reason: Your reason\n",
    "                        \"\"\"\n",
    "                },\n",
    "            ],\n",
    "        }\n",
    "    ]\n",
    "\n",
    "    # Prepare input for inference, only including video-3\n",
    "    text = processor.apply_chat_template(\n",
    "        messages, tokenize=False, add_generation_prompt=True\n",
    "    )\n",
    "\n",
    "    # Processing Vision inputs. Process only the user video (video-6) by passing the relevant part of `messages` directly\n",
    "    image_inputs, video_inputs = process_vision_info(messages)\n",
    "\n",
    "    # Preparing final inputs\n",
    "    inputs = processor(\n",
    "        text=[text],\n",
    "        images=image_inputs,\n",
    "        videos=video_inputs,\n",
    "        padding=True,\n",
    "        return_tensors=\"pt\",\n",
    "    )\n",
    "    inputs = inputs.to(\"cuda\")\n",
    "\n",
    "    # Model Inference\n",
    "    generated_ids = model.generate(**inputs, max_new_tokens=128)\n",
    "\n",
    "    #processing the output\n",
    "    generated_ids_trimmed = [\n",
    "        out_ids[len(in_ids):] for in_ids, out_ids in zip(inputs.input_ids, generated_ids)\n",
    "    ]\n",
    "    output_text = processor.batch_decode(\n",
    "        generated_ids_trimmed, skip_special_tokens=True, clean_up_tokenization_spaces=False\n",
    "    )\n",
    "\n",
    "    # Display the output\n",
    "    from IPython.display import Markdown\n",
    "    # Markdown(output_text[0].replace('\\n', '<br>'))\n",
    "    print(output_text[0])\n",
    "    print()"
   ]
  },
  {
   "cell_type": "markdown",
   "id": "47865a5e",
   "metadata": {},
   "source": [
    "## Evaluation\n",
    "\n",
    "We setup an evaluation set comprising shoplifting videos from the [UCF Crime Dataset](https://www.crcv.ucf.edu/projects/real-world/) and few other videos\n",
    "\n",
    "We then use the model to analyze each of videos, storing each response for comparison with the ground truth. This is to help us use a scientific approach to comparing methods"
   ]
  },
  {
   "cell_type": "code",
   "execution_count": null,
   "id": "86215750",
   "metadata": {},
   "outputs": [],
   "source": [
    "# pip install gdown\n",
    "# gdown \"https://drive.google.com/uc?export=download&id=1sHxoiUIZ66Dh0jBrAalBZ5Rp-yLUmt_3\"\n",
    "# unzip All-Shoplifting.zip"
   ]
  },
  {
   "cell_type": "code",
   "execution_count": null,
   "id": "6eb6b2a5",
   "metadata": {},
   "outputs": [
    {
     "name": "stderr",
     "output_type": "stream",
     "text": [
      "  0%|          | 0/97 [00:00<?, ?it/s]"
     ]
    },
    {
     "name": "stdout",
     "output_type": "stream",
     "text": [
      "\n",
      "Processing Nonshoplifting-19.mp4...\n",
      "Video duration: 25.16 seconds\n"
     ]
    },
    {
     "name": "stderr",
     "output_type": "stream",
     "text": [
      "  1%|          | 1/97 [00:03<05:22,  3.36s/it]"
     ]
    },
    {
     "name": "stdout",
     "output_type": "stream",
     "text": [
      "Analysis complete - Anomaly detected: No\n",
      "\n",
      "Processing Shoplifting052_x264.mp4...\n",
      "Video duration: 254.88 seconds\n",
      "Video duration: 7646.00 seconds, Total frames: 7646\n",
      "Sampling every 254 frames to extract 30 frames.\n",
      "Frame sampling complete\n"
     ]
    },
    {
     "name": "stderr",
     "output_type": "stream",
     "text": [
      "  2%|▏         | 2/97 [00:06<05:12,  3.29s/it]"
     ]
    },
    {
     "name": "stdout",
     "output_type": "stream",
     "text": [
      "Analysis complete - Anomaly detected: Yes\n",
      "\n",
      "Processing Nonshoplifting-24.mp4...\n",
      "Video duration: 10.32 seconds\n"
     ]
    },
    {
     "name": "stderr",
     "output_type": "stream",
     "text": [
      "  3%|▎         | 3/97 [00:08<04:02,  2.58s/it]"
     ]
    },
    {
     "name": "stdout",
     "output_type": "stream",
     "text": [
      "Analysis complete - Anomaly detected: No\n",
      "\n",
      "Processing Nonshoplifting-28.mp4...\n",
      "Video duration: 12.00 seconds\n"
     ]
    },
    {
     "name": "stderr",
     "output_type": "stream",
     "text": [
      "  4%|▍         | 4/97 [00:10<03:30,  2.27s/it]"
     ]
    },
    {
     "name": "stdout",
     "output_type": "stream",
     "text": [
      "Analysis complete - Anomaly detected: No\n",
      "\n",
      "Processing Nonshoplifting-37.mp4...\n",
      "Video duration: 18.36 seconds\n"
     ]
    },
    {
     "name": "stderr",
     "output_type": "stream",
     "text": [
      "  5%|▌         | 5/97 [00:12<03:43,  2.42s/it]"
     ]
    },
    {
     "name": "stdout",
     "output_type": "stream",
     "text": [
      "Analysis complete - Anomaly detected: No\n",
      "\n",
      "Processing Shoplifting034_x264.mp4...\n",
      "Video duration: 397.90 seconds\n",
      "Video duration: 11937.00 seconds, Total frames: 11937\n",
      "Sampling every 397 frames to extract 30 frames.\n",
      "Frame sampling complete\n"
     ]
    },
    {
     "name": "stderr",
     "output_type": "stream",
     "text": [
      "  6%|▌         | 6/97 [00:17<04:35,  3.03s/it]"
     ]
    },
    {
     "name": "stdout",
     "output_type": "stream",
     "text": [
      "Analysis complete - Anomaly detected: Yes\n",
      "\n",
      "Processing Nonshoplifting-39.mp4...\n",
      "Video duration: 9.84 seconds\n"
     ]
    },
    {
     "name": "stderr",
     "output_type": "stream",
     "text": [
      "  7%|▋         | 7/97 [00:18<03:59,  2.66s/it]"
     ]
    },
    {
     "name": "stdout",
     "output_type": "stream",
     "text": [
      "Analysis complete - Anomaly detected: No\n",
      "\n",
      "Processing Nonshoplifting-41.mp4...\n",
      "Video duration: 9.96 seconds\n"
     ]
    },
    {
     "name": "stderr",
     "output_type": "stream",
     "text": [
      "  8%|▊         | 8/97 [00:20<03:34,  2.41s/it]"
     ]
    },
    {
     "name": "stdout",
     "output_type": "stream",
     "text": [
      "Analysis complete - Anomaly detected: No\n",
      "\n",
      "Processing Shoplifting004_x264.mp4...\n",
      "Video duration: 222.48 seconds\n",
      "Video duration: 6673.00 seconds, Total frames: 6673\n",
      "Sampling every 222 frames to extract 30 frames.\n",
      "Frame sampling complete\n"
     ]
    },
    {
     "name": "stderr",
     "output_type": "stream",
     "text": [
      "  9%|▉         | 9/97 [00:23<03:45,  2.56s/it]"
     ]
    },
    {
     "name": "stdout",
     "output_type": "stream",
     "text": [
      "Analysis complete - Anomaly detected: Yes\n",
      "\n",
      "Processing Nonshoplifting-31.mp4...\n",
      "Video duration: 14.35 seconds\n"
     ]
    },
    {
     "name": "stderr",
     "output_type": "stream",
     "text": [
      " 10%|█         | 10/97 [00:26<03:35,  2.48s/it]"
     ]
    },
    {
     "name": "stdout",
     "output_type": "stream",
     "text": [
      "Analysis complete - Anomaly detected: No\n",
      "\n",
      "Processing Shoplifting038_x264.mp4...\n",
      "Video duration: 96.83 seconds\n",
      "Video duration: 2904.00 seconds, Total frames: 2904\n",
      "Sampling every 96 frames to extract 30 frames.\n",
      "Frame sampling complete\n"
     ]
    },
    {
     "name": "stderr",
     "output_type": "stream",
     "text": [
      " 11%|█▏        | 11/97 [00:28<03:40,  2.57s/it]"
     ]
    },
    {
     "name": "stdout",
     "output_type": "stream",
     "text": [
      "Analysis complete - Anomaly detected: Yes\n",
      "\n",
      "Processing Nonshoplifting-45.mp4...\n",
      "Video duration: 25.73 seconds\n"
     ]
    },
    {
     "name": "stderr",
     "output_type": "stream",
     "text": [
      " 12%|█▏        | 12/97 [00:32<04:11,  2.95s/it]"
     ]
    },
    {
     "name": "stdout",
     "output_type": "stream",
     "text": [
      "Analysis complete - Anomaly detected: Yes\n",
      "\n",
      "Processing Shoplifting016_x264.mp4...\n",
      "Video duration: 49.47 seconds\n",
      "Video duration: 1483.00 seconds, Total frames: 1483\n",
      "Sampling every 49 frames to extract 30 frames.\n",
      "Frame sampling complete\n"
     ]
    },
    {
     "name": "stderr",
     "output_type": "stream",
     "text": [
      " 13%|█▎        | 13/97 [00:34<03:48,  2.72s/it]"
     ]
    },
    {
     "name": "stdout",
     "output_type": "stream",
     "text": [
      "Analysis complete - Anomaly detected: Yes\n",
      "\n",
      "Processing Nonshoplifting-47.mp4...\n",
      "Video duration: 13.14 seconds\n"
     ]
    },
    {
     "name": "stderr",
     "output_type": "stream",
     "text": [
      " 14%|█▍        | 14/97 [00:36<03:25,  2.48s/it]"
     ]
    },
    {
     "name": "stdout",
     "output_type": "stream",
     "text": [
      "Analysis complete - Anomaly detected: No\n",
      "\n",
      "Processing Nonshoplifting-18.mp4...\n",
      "Video duration: 16.08 seconds\n"
     ]
    },
    {
     "name": "stderr",
     "output_type": "stream",
     "text": [
      " 15%|█▌        | 15/97 [00:38<03:13,  2.36s/it]"
     ]
    },
    {
     "name": "stdout",
     "output_type": "stream",
     "text": [
      "Analysis complete - Anomaly detected: No\n",
      "\n",
      "Processing Shoplifting017_x264.mp4...\n",
      "Video duration: 15.34 seconds\n"
     ]
    },
    {
     "name": "stderr",
     "output_type": "stream",
     "text": [
      " 16%|█▋        | 16/97 [00:41<03:12,  2.37s/it]"
     ]
    },
    {
     "name": "stdout",
     "output_type": "stream",
     "text": [
      "Analysis complete - Anomaly detected: Yes\n",
      "\n",
      "Processing Shoplifting041_x264.mp4...\n",
      "Video duration: 411.30 seconds\n",
      "Video duration: 12335.00 seconds, Total frames: 12335\n",
      "Sampling every 411 frames to extract 30 frames.\n",
      "Frame sampling complete\n"
     ]
    },
    {
     "name": "stderr",
     "output_type": "stream",
     "text": [
      " 18%|█▊        | 17/97 [00:44<03:39,  2.74s/it]"
     ]
    },
    {
     "name": "stdout",
     "output_type": "stream",
     "text": [
      "Analysis complete - Anomaly detected: Yes\n",
      "\n",
      "Processing video-7.mp4...\n",
      "Video duration: 11.20 seconds\n"
     ]
    },
    {
     "name": "stderr",
     "output_type": "stream",
     "text": [
      " 19%|█▊        | 18/97 [00:46<03:11,  2.43s/it]"
     ]
    },
    {
     "name": "stdout",
     "output_type": "stream",
     "text": [
      "Analysis complete - Anomaly detected: No\n",
      "\n",
      "Processing Shoplifting044_x264.mp4...\n",
      "Video duration: 485.17 seconds\n",
      "Video duration: 14555.00 seconds, Total frames: 14555\n",
      "Sampling every 485 frames to extract 30 frames.\n",
      "Frame sampling complete\n"
     ]
    },
    {
     "name": "stderr",
     "output_type": "stream",
     "text": [
      " 20%|█▉        | 19/97 [00:51<04:07,  3.17s/it]"
     ]
    },
    {
     "name": "stdout",
     "output_type": "stream",
     "text": [
      "Analysis complete - Anomaly detected: Yes\n",
      "\n",
      "Processing Shoplifting054_x264.mp4...\n",
      "Video duration: 34.23 seconds\n",
      "Video duration: 1025.00 seconds, Total frames: 1025\n",
      "Sampling every 34 frames to extract 30 frames.\n",
      "Frame sampling complete\n"
     ]
    },
    {
     "name": "stderr",
     "output_type": "stream",
     "text": [
      " 21%|██        | 20/97 [00:53<03:41,  2.87s/it]"
     ]
    },
    {
     "name": "stdout",
     "output_type": "stream",
     "text": [
      "Analysis complete - Anomaly detected: Yes\n",
      "\n",
      "Processing Shoplifting055_x264.mp4...\n",
      "Video duration: 225.70 seconds\n",
      "Video duration: 6770.00 seconds, Total frames: 6770\n",
      "Sampling every 225 frames to extract 30 frames.\n",
      "Frame sampling complete\n"
     ]
    },
    {
     "name": "stderr",
     "output_type": "stream",
     "text": [
      " 22%|██▏       | 21/97 [00:56<03:39,  2.89s/it]"
     ]
    },
    {
     "name": "stdout",
     "output_type": "stream",
     "text": [
      "Analysis complete - Anomaly detected: Yes\n",
      "\n",
      "Processing Nonshoplifting-2.mp4...\n",
      "Video duration: 10.72 seconds\n"
     ]
    },
    {
     "name": "stderr",
     "output_type": "stream",
     "text": [
      " 23%|██▎       | 22/97 [00:57<03:01,  2.42s/it]"
     ]
    },
    {
     "name": "stdout",
     "output_type": "stream",
     "text": [
      "Analysis complete - Anomaly detected: No\n",
      "\n",
      "Processing Nonshoplifting-43.mp4...\n",
      "Video duration: 11.64 seconds\n"
     ]
    },
    {
     "name": "stderr",
     "output_type": "stream",
     "text": [
      " 24%|██▎       | 23/97 [00:59<02:47,  2.26s/it]"
     ]
    },
    {
     "name": "stdout",
     "output_type": "stream",
     "text": [
      "Analysis complete - Anomaly detected: No\n",
      "\n",
      "Processing Shoplifting026_x264.mp4...\n",
      "Video duration: 47.09 seconds\n",
      "Video duration: 1410.00 seconds, Total frames: 1410\n",
      "Sampling every 47 frames to extract 30 frames.\n",
      "Frame sampling complete\n"
     ]
    },
    {
     "name": "stderr",
     "output_type": "stream",
     "text": [
      " 25%|██▍       | 24/97 [01:01<02:36,  2.14s/it]"
     ]
    },
    {
     "name": "stdout",
     "output_type": "stream",
     "text": [
      "Analysis complete - Anomaly detected: Yes\n",
      "\n",
      "Processing Nonshoplifting-17.mp4...\n",
      "Video duration: 15.62 seconds\n"
     ]
    },
    {
     "name": "stderr",
     "output_type": "stream",
     "text": [
      " 26%|██▌       | 25/97 [01:03<02:33,  2.14s/it]"
     ]
    },
    {
     "name": "stdout",
     "output_type": "stream",
     "text": [
      "Analysis complete - Anomaly detected: No\n",
      "\n",
      "Processing Shoplifting019_x264.mp4...\n",
      "Video duration: 21.92 seconds\n"
     ]
    },
    {
     "name": "stderr",
     "output_type": "stream",
     "text": [
      " 27%|██▋       | 26/97 [01:05<02:33,  2.16s/it]"
     ]
    },
    {
     "name": "stdout",
     "output_type": "stream",
     "text": [
      "Analysis complete - Anomaly detected: Yes\n",
      "\n",
      "Processing Nonshoplifting-23.mp4...\n",
      "Video duration: 11.71 seconds\n"
     ]
    },
    {
     "name": "stderr",
     "output_type": "stream",
     "text": [
      " 28%|██▊       | 27/97 [01:07<02:22,  2.04s/it]"
     ]
    },
    {
     "name": "stdout",
     "output_type": "stream",
     "text": [
      "Analysis complete - Anomaly detected: No\n",
      "\n",
      "Processing Nonshoplifting-50.mp4...\n",
      "Video duration: 23.71 seconds\n"
     ]
    },
    {
     "name": "stderr",
     "output_type": "stream",
     "text": [
      " 29%|██▉       | 28/97 [01:12<03:10,  2.76s/it]"
     ]
    },
    {
     "name": "stdout",
     "output_type": "stream",
     "text": [
      "Analysis complete - Anomaly detected: No\n",
      "\n",
      "Processing Nonshoplifting-25.mp4...\n",
      "Video duration: 21.92 seconds\n"
     ]
    },
    {
     "name": "stderr",
     "output_type": "stream",
     "text": [
      " 30%|██▉       | 29/97 [01:14<03:07,  2.76s/it]"
     ]
    },
    {
     "name": "stdout",
     "output_type": "stream",
     "text": [
      "Analysis complete - Anomaly detected: No\n",
      "\n",
      "Processing Shoplifting030_x264.mp4...\n",
      "Video duration: 806.48 seconds\n",
      "Video duration: 24193.00 seconds, Total frames: 24193\n",
      "Sampling every 806 frames to extract 30 frames.\n",
      "Frame sampling complete\n"
     ]
    },
    {
     "name": "stderr",
     "output_type": "stream",
     "text": [
      " 31%|███       | 30/97 [01:19<03:50,  3.45s/it]"
     ]
    },
    {
     "name": "stdout",
     "output_type": "stream",
     "text": [
      "Analysis complete - Anomaly detected: Yes\n",
      "\n",
      "Processing Nonshoplifting-46.mp4...\n",
      "Video duration: 110.90 seconds\n",
      "Video duration: 1283.00 seconds, Total frames: 1283\n",
      "Sampling every 42 frames to extract 30 frames.\n",
      "Frame sampling complete\n"
     ]
    },
    {
     "name": "stderr",
     "output_type": "stream",
     "text": [
      " 32%|███▏      | 31/97 [01:23<03:56,  3.58s/it]"
     ]
    },
    {
     "name": "stdout",
     "output_type": "stream",
     "text": [
      "Analysis complete - Anomaly detected: No\n",
      "\n",
      "Processing Nonshoplifting-32.mp4...\n",
      "Video duration: 14.22 seconds\n"
     ]
    },
    {
     "name": "stderr",
     "output_type": "stream",
     "text": [
      " 33%|███▎      | 32/97 [01:26<03:26,  3.17s/it]"
     ]
    },
    {
     "name": "stdout",
     "output_type": "stream",
     "text": [
      "Analysis complete - Anomaly detected: No\n",
      "\n",
      "Processing Nonshoplifting-1.mp4...\n",
      "Video duration: 21.44 seconds\n"
     ]
    },
    {
     "name": "stderr",
     "output_type": "stream",
     "text": [
      " 34%|███▍      | 33/97 [01:28<03:16,  3.06s/it]"
     ]
    },
    {
     "name": "stdout",
     "output_type": "stream",
     "text": [
      "Analysis complete - Anomaly detected: No\n",
      "\n",
      "Processing Nonshoplifting-48.mp4...\n",
      "Video duration: 27.91 seconds\n"
     ]
    },
    {
     "name": "stderr",
     "output_type": "stream",
     "text": [
      " 35%|███▌      | 34/97 [01:33<03:49,  3.65s/it]"
     ]
    },
    {
     "name": "stdout",
     "output_type": "stream",
     "text": [
      "Analysis complete - Anomaly detected: No\n",
      "\n",
      "Processing Shoplifting047_x264.mp4...\n",
      "Video duration: 79.29 seconds\n",
      "Video duration: 2377.00 seconds, Total frames: 2377\n",
      "Sampling every 79 frames to extract 30 frames.\n",
      "Frame sampling complete\n"
     ]
    },
    {
     "name": "stderr",
     "output_type": "stream",
     "text": [
      " 36%|███▌      | 35/97 [01:36<03:33,  3.45s/it]"
     ]
    },
    {
     "name": "stdout",
     "output_type": "stream",
     "text": [
      "Analysis complete - Anomaly detected: Yes\n",
      "\n",
      "Processing Nonshoplifting-15.mp4...\n",
      "Video duration: 10.31 seconds\n"
     ]
    },
    {
     "name": "stderr",
     "output_type": "stream",
     "text": [
      " 37%|███▋      | 36/97 [01:38<02:55,  2.88s/it]"
     ]
    },
    {
     "name": "stdout",
     "output_type": "stream",
     "text": [
      "Analysis complete - Anomaly detected: No\n",
      "\n",
      "Processing Nonshoplifting-4.mp4...\n",
      "Video duration: 18.72 seconds\n"
     ]
    },
    {
     "name": "stderr",
     "output_type": "stream",
     "text": [
      " 38%|███▊      | 37/97 [01:40<02:44,  2.74s/it]"
     ]
    },
    {
     "name": "stdout",
     "output_type": "stream",
     "text": [
      "Analysis complete - Anomaly detected: No\n",
      "\n",
      "Processing Shoplifting031_x264.mp4...\n",
      "Video duration: 14.94 seconds\n"
     ]
    },
    {
     "name": "stderr",
     "output_type": "stream",
     "text": [
      " 39%|███▉      | 38/97 [01:42<02:18,  2.35s/it]"
     ]
    },
    {
     "name": "stdout",
     "output_type": "stream",
     "text": [
      "Analysis complete - Anomaly detected: Yes\n",
      "\n",
      "Processing Nonshoplifting-9.mp4...\n",
      "Video duration: 13.81 seconds\n"
     ]
    },
    {
     "name": "stderr",
     "output_type": "stream",
     "text": [
      " 40%|████      | 39/97 [01:44<02:08,  2.22s/it]"
     ]
    },
    {
     "name": "stdout",
     "output_type": "stream",
     "text": [
      "Analysis complete - Anomaly detected: No\n",
      "\n",
      "Processing Nonshoplifting-22.mp4...\n",
      "Video duration: 15.15 seconds\n"
     ]
    },
    {
     "name": "stderr",
     "output_type": "stream",
     "text": [
      " 41%|████      | 40/97 [01:46<02:08,  2.25s/it]"
     ]
    },
    {
     "name": "stdout",
     "output_type": "stream",
     "text": [
      "Analysis complete - Anomaly detected: No\n",
      "\n",
      "Processing Nonshoplifting-49.mp4...\n",
      "Video duration: 17.26 seconds\n"
     ]
    },
    {
     "name": "stderr",
     "output_type": "stream",
     "text": [
      " 42%|████▏     | 41/97 [01:49<02:21,  2.53s/it]"
     ]
    },
    {
     "name": "stdout",
     "output_type": "stream",
     "text": [
      "Analysis complete - Anomaly detected: No\n",
      "\n",
      "Processing Nonshoplifting-27.mp4...\n",
      "Video duration: 19.64 seconds\n"
     ]
    },
    {
     "name": "stderr",
     "output_type": "stream",
     "text": [
      " 43%|████▎     | 42/97 [01:51<02:11,  2.40s/it]"
     ]
    },
    {
     "name": "stdout",
     "output_type": "stream",
     "text": [
      "Analysis complete - Anomaly detected: No\n",
      "\n",
      "Processing Nonshoplifting-13.mp4...\n",
      "Video duration: 15.48 seconds\n"
     ]
    },
    {
     "name": "stderr",
     "output_type": "stream",
     "text": [
      " 44%|████▍     | 43/97 [01:53<02:03,  2.30s/it]"
     ]
    },
    {
     "name": "stdout",
     "output_type": "stream",
     "text": [
      "Analysis complete - Anomaly detected: No\n",
      "\n",
      "Processing Shoplifting028_x264.mp4...\n",
      "Video duration: 45.28 seconds\n",
      "Video duration: 1357.00 seconds, Total frames: 1357\n",
      "Sampling every 45 frames to extract 30 frames.\n",
      "Frame sampling complete\n"
     ]
    },
    {
     "name": "stderr",
     "output_type": "stream",
     "text": [
      " 45%|████▌     | 44/97 [01:55<01:54,  2.15s/it]"
     ]
    },
    {
     "name": "stdout",
     "output_type": "stream",
     "text": [
      "Analysis complete - Anomaly detected: Yes\n",
      "\n",
      "Processing Shoplifting010_x264.mp4...\n",
      "Video duration: 91.20 seconds\n",
      "Video duration: 2736.00 seconds, Total frames: 2736\n",
      "Sampling every 91 frames to extract 30 frames.\n",
      "Frame sampling complete\n"
     ]
    },
    {
     "name": "stderr",
     "output_type": "stream",
     "text": [
      " 46%|████▋     | 45/97 [01:57<01:49,  2.11s/it]"
     ]
    },
    {
     "name": "stdout",
     "output_type": "stream",
     "text": [
      "Analysis complete - Anomaly detected: Yes\n",
      "\n",
      "Processing Shoplifting042_x264.mp4...\n",
      "Video duration: 170.75 seconds\n",
      "Video duration: 5121.00 seconds, Total frames: 5121\n",
      "Sampling every 170 frames to extract 30 frames.\n",
      "Frame sampling complete\n"
     ]
    },
    {
     "name": "stderr",
     "output_type": "stream",
     "text": [
      " 47%|████▋     | 46/97 [02:00<02:01,  2.37s/it]"
     ]
    },
    {
     "name": "stdout",
     "output_type": "stream",
     "text": [
      "Analysis complete - Anomaly detected: Yes\n",
      "\n",
      "Processing Shoplifting049_x264.mp4...\n",
      "Video duration: 71.67 seconds\n",
      "Video duration: 2149.00 seconds, Total frames: 2149\n",
      "Sampling every 71 frames to extract 30 frames.\n",
      "Frame sampling complete\n"
     ]
    },
    {
     "name": "stderr",
     "output_type": "stream",
     "text": [
      " 48%|████▊     | 47/97 [02:02<01:54,  2.29s/it]"
     ]
    },
    {
     "name": "stdout",
     "output_type": "stream",
     "text": [
      "Analysis complete - Anomaly detected: Yes\n",
      "\n",
      "Processing Shoplifting009_x264.mp4...\n",
      "Video duration: 173.37 seconds\n",
      "Video duration: 5201.00 seconds, Total frames: 5201\n",
      "Sampling every 173 frames to extract 30 frames.\n",
      "Frame sampling complete\n"
     ]
    },
    {
     "name": "stderr",
     "output_type": "stream",
     "text": [
      " 49%|████▉     | 48/97 [02:05<01:55,  2.36s/it]"
     ]
    },
    {
     "name": "stdout",
     "output_type": "stream",
     "text": [
      "Analysis complete - Anomaly detected: Yes\n",
      "\n",
      "Processing Nonshoplifting-3.mp4...\n",
      "Video duration: 10.68 seconds\n"
     ]
    },
    {
     "name": "stderr",
     "output_type": "stream",
     "text": [
      " 51%|█████     | 49/97 [02:06<01:43,  2.15s/it]"
     ]
    },
    {
     "name": "stdout",
     "output_type": "stream",
     "text": [
      "Analysis complete - Anomaly detected: No\n",
      "\n",
      "Processing Nonshoplifting-21.mp4...\n",
      "Video duration: 25.96 seconds\n"
     ]
    },
    {
     "name": "stderr",
     "output_type": "stream",
     "text": [
      " 52%|█████▏    | 50/97 [02:09<01:53,  2.42s/it]"
     ]
    },
    {
     "name": "stdout",
     "output_type": "stream",
     "text": [
      "Analysis complete - Anomaly detected: No\n",
      "\n",
      "Processing Nonshoplifting-5.mp4...\n",
      "Video duration: 16.56 seconds\n"
     ]
    },
    {
     "name": "stderr",
     "output_type": "stream",
     "text": [
      " 53%|█████▎    | 51/97 [02:12<01:53,  2.47s/it]"
     ]
    },
    {
     "name": "stdout",
     "output_type": "stream",
     "text": [
      "Analysis complete - Anomaly detected: No\n",
      "\n",
      "Processing Shoplifting050_x264.mp4...\n",
      "Video duration: 83.63 seconds\n",
      "Video duration: 2506.00 seconds, Total frames: 2506\n",
      "Sampling every 83 frames to extract 30 frames.\n",
      "Frame sampling complete\n"
     ]
    },
    {
     "name": "stderr",
     "output_type": "stream",
     "text": [
      " 54%|█████▎    | 52/97 [02:15<01:51,  2.48s/it]"
     ]
    },
    {
     "name": "stdout",
     "output_type": "stream",
     "text": [
      "Analysis complete - Anomaly detected: Yes\n",
      "\n",
      "Processing Nonshoplifting-8.mp4...\n",
      "Video duration: 9.74 seconds\n"
     ]
    },
    {
     "name": "stderr",
     "output_type": "stream",
     "text": [
      " 55%|█████▍    | 53/97 [02:16<01:38,  2.24s/it]"
     ]
    },
    {
     "name": "stdout",
     "output_type": "stream",
     "text": [
      "Analysis complete - Anomaly detected: No\n",
      "\n",
      "Processing Shoplifting036_x264.mp4...\n",
      "Video duration: 121.98 seconds\n",
      "Video duration: 3657.00 seconds, Total frames: 3657\n",
      "Sampling every 121 frames to extract 30 frames.\n",
      "Frame sampling complete\n"
     ]
    },
    {
     "name": "stderr",
     "output_type": "stream",
     "text": [
      " 56%|█████▌    | 54/97 [02:19<01:46,  2.47s/it]"
     ]
    },
    {
     "name": "stdout",
     "output_type": "stream",
     "text": [
      "Analysis complete - Anomaly detected: Yes\n",
      "\n",
      "Processing Shoplifting037_x264.mp4...\n",
      "Video duration: 46.22 seconds\n",
      "Video duration: 1386.00 seconds, Total frames: 1386\n",
      "Sampling every 46 frames to extract 30 frames.\n",
      "Frame sampling complete\n"
     ]
    },
    {
     "name": "stderr",
     "output_type": "stream",
     "text": [
      " 57%|█████▋    | 55/97 [02:21<01:40,  2.38s/it]"
     ]
    },
    {
     "name": "stdout",
     "output_type": "stream",
     "text": [
      "Analysis complete - Anomaly detected: Yes\n",
      "\n",
      "Processing Shoplifting032_x264.mp4...\n",
      "Video duration: 47.59 seconds\n",
      "Video duration: 1426.00 seconds, Total frames: 1426\n",
      "Sampling every 47 frames to extract 30 frames.\n",
      "Frame sampling complete\n"
     ]
    },
    {
     "name": "stderr",
     "output_type": "stream",
     "text": [
      " 58%|█████▊    | 56/97 [02:23<01:32,  2.26s/it]"
     ]
    },
    {
     "name": "stdout",
     "output_type": "stream",
     "text": [
      "Analysis complete - Anomaly detected: Yes\n",
      "\n",
      "Processing Shoplifting053_x264.mp4...\n",
      "Video duration: 69.94 seconds\n",
      "Video duration: 2097.00 seconds, Total frames: 2097\n",
      "Sampling every 69 frames to extract 30 frames.\n",
      "Frame sampling complete\n"
     ]
    },
    {
     "name": "stderr",
     "output_type": "stream",
     "text": [
      " 59%|█████▉    | 57/97 [02:26<01:33,  2.35s/it]"
     ]
    },
    {
     "name": "stdout",
     "output_type": "stream",
     "text": [
      "Analysis complete - Anomaly detected: Yes\n",
      "\n",
      "Processing Nonshoplifting-29.mp4...\n",
      "Video duration: 9.60 seconds\n"
     ]
    },
    {
     "name": "stderr",
     "output_type": "stream",
     "text": [
      " 60%|█████▉    | 58/97 [02:28<01:25,  2.19s/it]"
     ]
    },
    {
     "name": "stdout",
     "output_type": "stream",
     "text": [
      "Analysis complete - Anomaly detected: No\n",
      "\n",
      "Processing video-6.mp4...\n",
      "Video duration: 11.90 seconds\n"
     ]
    },
    {
     "name": "stderr",
     "output_type": "stream",
     "text": [
      " 61%|██████    | 59/97 [02:30<01:19,  2.09s/it]"
     ]
    },
    {
     "name": "stdout",
     "output_type": "stream",
     "text": [
      "Analysis complete - Anomaly detected: No\n",
      "\n",
      "Processing Nonshoplifting-12.mp4...\n",
      "Video duration: 12.00 seconds\n"
     ]
    },
    {
     "name": "stderr",
     "output_type": "stream",
     "text": [
      " 62%|██████▏   | 60/97 [02:31<01:14,  2.00s/it]"
     ]
    },
    {
     "name": "stdout",
     "output_type": "stream",
     "text": [
      "Analysis complete - Anomaly detected: No\n",
      "\n",
      "Processing Nonshoplifting-20.mp4...\n",
      "Video duration: 18.62 seconds\n"
     ]
    },
    {
     "name": "stderr",
     "output_type": "stream",
     "text": [
      " 63%|██████▎   | 61/97 [02:34<01:16,  2.13s/it]"
     ]
    },
    {
     "name": "stdout",
     "output_type": "stream",
     "text": [
      "Analysis complete - Anomaly detected: No\n",
      "\n",
      "Processing Nonshoplifting-30.mp4...\n",
      "Video duration: 15.72 seconds\n"
     ]
    },
    {
     "name": "stderr",
     "output_type": "stream",
     "text": [
      " 64%|██████▍   | 62/97 [02:36<01:14,  2.12s/it]"
     ]
    },
    {
     "name": "stdout",
     "output_type": "stream",
     "text": [
      "Analysis complete - Anomaly detected: No\n",
      "\n",
      "Processing Nonshoplifting-14.mp4...\n",
      "Video duration: 10.76 seconds\n"
     ]
    },
    {
     "name": "stderr",
     "output_type": "stream",
     "text": [
      " 65%|██████▍   | 63/97 [02:38<01:08,  2.03s/it]"
     ]
    },
    {
     "name": "stdout",
     "output_type": "stream",
     "text": [
      "Analysis complete - Anomaly detected: No\n",
      "\n",
      "Processing Shoplifting025_x264.mp4...\n",
      "Video duration: 60.94 seconds\n",
      "Video duration: 1824.00 seconds, Total frames: 1824\n",
      "Sampling every 60 frames to extract 30 frames.\n",
      "Frame sampling complete\n"
     ]
    },
    {
     "name": "stderr",
     "output_type": "stream",
     "text": [
      " 66%|██████▌   | 64/97 [02:40<01:04,  1.96s/it]"
     ]
    },
    {
     "name": "stdout",
     "output_type": "stream",
     "text": [
      "Analysis complete - Anomaly detected: Yes\n",
      "\n",
      "Processing Shoplifting040_x264.mp4...\n",
      "Video duration: 907.05 seconds\n",
      "Video duration: 27208.00 seconds, Total frames: 27208\n",
      "Sampling every 906 frames to extract 30 frames.\n",
      "Frame sampling complete\n"
     ]
    },
    {
     "name": "stderr",
     "output_type": "stream",
     "text": [
      " 67%|██████▋   | 65/97 [02:46<01:42,  3.22s/it]"
     ]
    },
    {
     "name": "stdout",
     "output_type": "stream",
     "text": [
      "Analysis complete - Anomaly detected: Yes\n",
      "\n",
      "Processing Shoplifting043_x264.mp4...\n",
      "Video duration: 317.30 seconds\n",
      "Video duration: 9518.00 seconds, Total frames: 9518\n",
      "Sampling every 317 frames to extract 30 frames.\n",
      "Frame sampling complete\n"
     ]
    },
    {
     "name": "stderr",
     "output_type": "stream",
     "text": [
      " 68%|██████▊   | 66/97 [02:49<01:39,  3.20s/it]"
     ]
    },
    {
     "name": "stdout",
     "output_type": "stream",
     "text": [
      "Analysis complete - Anomaly detected: Yes\n",
      "\n",
      "Processing Nonshoplifting-42.mp4...\n",
      "Video duration: 12.44 seconds\n"
     ]
    },
    {
     "name": "stderr",
     "output_type": "stream",
     "text": [
      " 69%|██████▉   | 67/97 [02:51<01:24,  2.80s/it]"
     ]
    },
    {
     "name": "stdout",
     "output_type": "stream",
     "text": [
      "Analysis complete - Anomaly detected: No\n",
      "\n",
      "Processing Shoplifting006_x264.mp4...\n",
      "Video duration: 105.20 seconds\n",
      "Video duration: 3156.00 seconds, Total frames: 3156\n",
      "Sampling every 105 frames to extract 30 frames.\n",
      "Frame sampling complete\n"
     ]
    },
    {
     "name": "stderr",
     "output_type": "stream",
     "text": [
      " 70%|███████   | 68/97 [02:53<01:18,  2.69s/it]"
     ]
    },
    {
     "name": "stdout",
     "output_type": "stream",
     "text": [
      "Analysis complete - Anomaly detected: Yes\n",
      "\n",
      "Processing Shoplifting020_x264.mp4...\n",
      "Video duration: 192.37 seconds\n",
      "Video duration: 5770.00 seconds, Total frames: 5770\n",
      "Sampling every 192 frames to extract 30 frames.\n",
      "Frame sampling complete\n"
     ]
    },
    {
     "name": "stderr",
     "output_type": "stream",
     "text": [
      " 71%|███████   | 69/97 [02:56<01:14,  2.66s/it]"
     ]
    },
    {
     "name": "stdout",
     "output_type": "stream",
     "text": [
      "Analysis complete - Anomaly detected: Yes\n",
      "\n",
      "Processing Shoplifting027_x264.mp4...\n",
      "Video duration: 62.47 seconds\n",
      "Video duration: 1873.00 seconds, Total frames: 1873\n",
      "Sampling every 62 frames to extract 30 frames.\n",
      "Frame sampling complete\n"
     ]
    },
    {
     "name": "stderr",
     "output_type": "stream",
     "text": [
      " 72%|███████▏  | 70/97 [02:58<01:07,  2.49s/it]"
     ]
    },
    {
     "name": "stdout",
     "output_type": "stream",
     "text": [
      "Analysis complete - Anomaly detected: Yes\n",
      "\n",
      "Processing Nonshoplifting-11.mp4...\n",
      "Video duration: 18.05 seconds\n"
     ]
    },
    {
     "name": "stderr",
     "output_type": "stream",
     "text": [
      " 73%|███████▎  | 71/97 [03:00<01:04,  2.50s/it]"
     ]
    },
    {
     "name": "stdout",
     "output_type": "stream",
     "text": [
      "Analysis complete - Anomaly detected: No\n",
      "\n",
      "Processing Shoplifting014_x264.mp4...\n",
      "Video duration: 2223.27 seconds\n",
      "Video duration: 66698.00 seconds, Total frames: 66698\n",
      "Sampling every 2223 frames to extract 30 frames.\n",
      "Frame sampling complete\n"
     ]
    },
    {
     "name": "stderr",
     "output_type": "stream",
     "text": [
      " 74%|███████▍  | 72/97 [03:11<01:59,  4.80s/it]"
     ]
    },
    {
     "name": "stdout",
     "output_type": "stream",
     "text": [
      "Analysis complete - Anomaly detected: Yes\n",
      "\n",
      "Processing Shoplifting005_x264.mp4...\n",
      "Video duration: 65.57 seconds\n",
      "Video duration: 1967.00 seconds, Total frames: 1967\n",
      "Sampling every 65 frames to extract 30 frames.\n",
      "Frame sampling complete\n"
     ]
    },
    {
     "name": "stderr",
     "output_type": "stream",
     "text": [
      " 75%|███████▌  | 73/97 [03:13<01:36,  4.01s/it]"
     ]
    },
    {
     "name": "stdout",
     "output_type": "stream",
     "text": [
      "Analysis complete - Anomaly detected: Yes\n",
      "\n",
      "Processing Shoplifting001_x264.mp4...\n",
      "Video duration: 144.88 seconds\n",
      "Video duration: 4344.00 seconds, Total frames: 4344\n",
      "Sampling every 144 frames to extract 30 frames.\n",
      "Frame sampling complete\n"
     ]
    },
    {
     "name": "stderr",
     "output_type": "stream",
     "text": [
      " 76%|███████▋  | 74/97 [03:15<01:22,  3.57s/it]"
     ]
    },
    {
     "name": "stdout",
     "output_type": "stream",
     "text": [
      "Analysis complete - Anomaly detected: Yes\n",
      "\n",
      "Processing Nonshoplifting-16.mp4...\n",
      "Video duration: 7.92 seconds\n"
     ]
    },
    {
     "name": "stderr",
     "output_type": "stream",
     "text": [
      " 77%|███████▋  | 75/97 [03:17<01:05,  2.99s/it]"
     ]
    },
    {
     "name": "stdout",
     "output_type": "stream",
     "text": [
      "Analysis complete - Anomaly detected: No\n",
      "\n",
      "Processing Shoplifting051_x264.mp4...\n",
      "Video duration: 240.64 seconds\n",
      "Video duration: 7218.00 seconds, Total frames: 7218\n",
      "Sampling every 240 frames to extract 30 frames.\n",
      "Frame sampling complete\n"
     ]
    },
    {
     "name": "stderr",
     "output_type": "stream",
     "text": [
      " 78%|███████▊  | 76/97 [03:20<01:02,  2.99s/it]"
     ]
    },
    {
     "name": "stdout",
     "output_type": "stream",
     "text": [
      "Analysis complete - Anomaly detected: Yes\n",
      "\n",
      "Processing Nonshoplifting-34.mp4...\n",
      "Video duration: 25.58 seconds\n"
     ]
    },
    {
     "name": "stderr",
     "output_type": "stream",
     "text": [
      " 79%|███████▉  | 77/97 [03:23<01:01,  3.05s/it]"
     ]
    },
    {
     "name": "stdout",
     "output_type": "stream",
     "text": [
      "Analysis complete - Anomaly detected: No\n",
      "\n",
      "Processing Nonshoplifting-33.mp4...\n",
      "Video duration: 15.31 seconds\n"
     ]
    },
    {
     "name": "stderr",
     "output_type": "stream",
     "text": [
      " 80%|████████  | 78/97 [03:25<00:50,  2.65s/it]"
     ]
    },
    {
     "name": "stdout",
     "output_type": "stream",
     "text": [
      "Analysis complete - Anomaly detected: No\n",
      "\n",
      "Processing video-2.mp4...\n",
      "Video duration: 21.90 seconds\n"
     ]
    },
    {
     "name": "stderr",
     "output_type": "stream",
     "text": [
      " 81%|████████▏ | 79/97 [03:30<01:02,  3.47s/it]"
     ]
    },
    {
     "name": "stdout",
     "output_type": "stream",
     "text": [
      "Analysis complete - Anomaly detected: Yes\n",
      "\n",
      "Processing Shoplifting033_x264.mp4...\n",
      "Video duration: 30.01 seconds\n",
      "Video duration: 899.00 seconds, Total frames: 899\n",
      "Sampling every 29 frames to extract 30 frames.\n",
      "Frame sampling complete\n"
     ]
    },
    {
     "name": "stderr",
     "output_type": "stream",
     "text": [
      " 82%|████████▏ | 80/97 [03:32<00:50,  2.97s/it]"
     ]
    },
    {
     "name": "stdout",
     "output_type": "stream",
     "text": [
      "Analysis complete - Anomaly detected: Yes\n",
      "\n",
      "Processing video-3.mp4...\n",
      "Video duration: 10.02 seconds\n"
     ]
    },
    {
     "name": "stderr",
     "output_type": "stream",
     "text": [
      " 84%|████████▎ | 81/97 [03:37<00:55,  3.49s/it]"
     ]
    },
    {
     "name": "stdout",
     "output_type": "stream",
     "text": [
      "Analysis complete - Anomaly detected: No\n",
      "\n",
      "Processing Nonshoplifting-36.mp4...\n",
      "Video duration: 10.04 seconds\n"
     ]
    },
    {
     "name": "stderr",
     "output_type": "stream",
     "text": [
      " 85%|████████▍ | 82/97 [03:39<00:45,  3.04s/it]"
     ]
    },
    {
     "name": "stdout",
     "output_type": "stream",
     "text": [
      "Analysis complete - Anomaly detected: No\n",
      "\n",
      "Processing Nonshoplifting-6.mp4...\n",
      "Video duration: 20.08 seconds\n"
     ]
    },
    {
     "name": "stderr",
     "output_type": "stream",
     "text": [
      " 86%|████████▌ | 83/97 [03:41<00:40,  2.87s/it]"
     ]
    },
    {
     "name": "stdout",
     "output_type": "stream",
     "text": [
      "Analysis complete - Anomaly detected: No\n",
      "\n",
      "Processing Nonshoplifting-26.mp4...\n",
      "Video duration: 18.60 seconds\n"
     ]
    },
    {
     "name": "stderr",
     "output_type": "stream",
     "text": [
      " 87%|████████▋ | 84/97 [03:44<00:35,  2.75s/it]"
     ]
    },
    {
     "name": "stdout",
     "output_type": "stream",
     "text": [
      "Analysis complete - Anomaly detected: No\n",
      "\n",
      "Processing Shoplifting045_x264.mp4...\n",
      "Video duration: 54.73 seconds\n",
      "Video duration: 1640.00 seconds, Total frames: 1640\n",
      "Sampling every 54 frames to extract 30 frames.\n",
      "Frame sampling complete\n"
     ]
    },
    {
     "name": "stderr",
     "output_type": "stream",
     "text": [
      " 88%|████████▊ | 85/97 [03:46<00:30,  2.58s/it]"
     ]
    },
    {
     "name": "stdout",
     "output_type": "stream",
     "text": [
      "Analysis complete - Anomaly detected: Yes\n",
      "\n",
      "Processing Shoplifting048_x264.mp4...\n",
      "Video duration: 103.69 seconds\n",
      "Video duration: 3108.00 seconds, Total frames: 3108\n",
      "Sampling every 103 frames to extract 30 frames.\n",
      "Frame sampling complete\n"
     ]
    },
    {
     "name": "stderr",
     "output_type": "stream",
     "text": [
      " 89%|████████▊ | 86/97 [03:48<00:27,  2.53s/it]"
     ]
    },
    {
     "name": "stdout",
     "output_type": "stream",
     "text": [
      "Analysis complete - Anomaly detected: Yes\n",
      "\n",
      "Processing Shoplifting029_x264.mp4...\n",
      "Video duration: 72.56 seconds\n",
      "Video duration: 2176.00 seconds, Total frames: 2176\n",
      "Sampling every 72 frames to extract 30 frames.\n",
      "Frame sampling complete\n"
     ]
    },
    {
     "name": "stderr",
     "output_type": "stream",
     "text": [
      " 90%|████████▉ | 87/97 [03:51<00:24,  2.48s/it]"
     ]
    },
    {
     "name": "stdout",
     "output_type": "stream",
     "text": [
      "Analysis complete - Anomaly detected: Yes\n",
      "\n",
      "Processing Shoplifting039_x264.mp4...\n",
      "Video duration: 93.46 seconds\n",
      "Video duration: 2803.00 seconds, Total frames: 2803\n",
      "Sampling every 93 frames to extract 30 frames.\n",
      "Frame sampling complete\n"
     ]
    },
    {
     "name": "stderr",
     "output_type": "stream",
     "text": [
      " 91%|█████████ | 88/97 [03:53<00:23,  2.58s/it]"
     ]
    },
    {
     "name": "stdout",
     "output_type": "stream",
     "text": [
      "Analysis complete - Anomaly detected: Yes\n",
      "\n",
      "Processing Shoplifting018_x264.mp4...\n",
      "Video duration: 71.16 seconds\n",
      "Video duration: 2132.00 seconds, Total frames: 2132\n",
      "Sampling every 71 frames to extract 30 frames.\n",
      "Frame sampling complete\n"
     ]
    },
    {
     "name": "stderr",
     "output_type": "stream",
     "text": [
      " 92%|█████████▏| 89/97 [03:57<00:22,  2.82s/it]"
     ]
    },
    {
     "name": "stdout",
     "output_type": "stream",
     "text": [
      "Analysis complete - Anomaly detected: Yes\n",
      "\n",
      "Processing Shoplifting015_x264.mp4...\n",
      "Video duration: 75.20 seconds\n",
      "Video duration: 2256.00 seconds, Total frames: 2256\n",
      "Sampling every 75 frames to extract 30 frames.\n",
      "Frame sampling complete\n"
     ]
    },
    {
     "name": "stderr",
     "output_type": "stream",
     "text": [
      " 93%|█████████▎| 90/97 [03:59<00:18,  2.63s/it]"
     ]
    },
    {
     "name": "stdout",
     "output_type": "stream",
     "text": [
      "Analysis complete - Anomaly detected: Yes\n",
      "\n",
      "Processing Nonshoplifting-7.mp4...\n",
      "Video duration: 13.68 seconds\n"
     ]
    },
    {
     "name": "stderr",
     "output_type": "stream",
     "text": [
      " 94%|█████████▍| 91/97 [04:01<00:14,  2.41s/it]"
     ]
    },
    {
     "name": "stdout",
     "output_type": "stream",
     "text": [
      "Analysis complete - Anomaly detected: No\n",
      "\n",
      "Processing Shoplifting003_x264.mp4...\n",
      "Video duration: 360.62 seconds\n",
      "Video duration: 10817.00 seconds, Total frames: 10817\n",
      "Sampling every 360 frames to extract 30 frames.\n",
      "Frame sampling complete\n"
     ]
    },
    {
     "name": "stderr",
     "output_type": "stream",
     "text": [
      " 95%|█████████▍| 92/97 [04:05<00:14,  2.83s/it]"
     ]
    },
    {
     "name": "stdout",
     "output_type": "stream",
     "text": [
      "Analysis complete - Anomaly detected: Yes\n",
      "\n",
      "Processing Nonshoplifting-38.mp4...\n",
      "Video duration: 16.08 seconds\n"
     ]
    },
    {
     "name": "stderr",
     "output_type": "stream",
     "text": [
      " 96%|█████████▌| 93/97 [04:07<00:10,  2.74s/it]"
     ]
    },
    {
     "name": "stdout",
     "output_type": "stream",
     "text": [
      "Analysis complete - Anomaly detected: No\n",
      "\n",
      "Processing Nonshoplifting-35.mp4...\n",
      "Video duration: 5.24 seconds\n"
     ]
    },
    {
     "name": "stderr",
     "output_type": "stream",
     "text": [
      " 97%|█████████▋| 94/97 [04:09<00:07,  2.34s/it]"
     ]
    },
    {
     "name": "stdout",
     "output_type": "stream",
     "text": [
      "Analysis complete - Anomaly detected: No\n",
      "\n",
      "Processing Nonshoplifting-44.mp4...\n",
      "Video duration: 16.37 seconds\n"
     ]
    },
    {
     "name": "stderr",
     "output_type": "stream",
     "text": [
      " 98%|█████████▊| 95/97 [04:11<00:04,  2.27s/it]"
     ]
    },
    {
     "name": "stdout",
     "output_type": "stream",
     "text": [
      "Analysis complete - Anomaly detected: No\n",
      "\n",
      "Processing video-4.mp4...\n",
      "Video duration: 19.98 seconds\n"
     ]
    },
    {
     "name": "stderr",
     "output_type": "stream",
     "text": [
      " 99%|█████████▉| 96/97 [04:13<00:02,  2.30s/it]"
     ]
    },
    {
     "name": "stdout",
     "output_type": "stream",
     "text": [
      "Analysis complete - Anomaly detected: Yes\n",
      "\n",
      "Processing Nonshoplifting-10.mp4...\n",
      "Video duration: 14.28 seconds\n"
     ]
    },
    {
     "name": "stderr",
     "output_type": "stream",
     "text": [
      "100%|██████████| 97/97 [04:15<00:00,  2.63s/it]"
     ]
    },
    {
     "name": "stdout",
     "output_type": "stream",
     "text": [
      "Analysis complete - Anomaly detected: No\n",
      "\n",
      "Cleaned up temporary directory: /tmp/tmprc7w0uj3\n",
      "\n",
      "Results saved to qwen_results.csv\n",
      "\n",
      "Analysis Summary:\n",
      "Total videos processed: 97\n",
      "Videos trimmed: 41\n",
      "Anomalies detected: 46\n",
      "Processing errors: 0\n"
     ]
    },
    {
     "name": "stderr",
     "output_type": "stream",
     "text": [
      "\n"
     ]
    }
   ],
   "source": [
    "import os\n",
    "import pandas as pd\n",
    "from pathlib import Path\n",
    "import json\n",
    "import cv2\n",
    "from moviepy.editor import VideoFileClip\n",
    "import tempfile\n",
    "from tqdm import tqdm\n",
    "\n",
    "def prepare_messages(process_path, mode=\"few_shot\"):\n",
    "    if mode == \"zero_shot\":\n",
    "\n",
    "        return [\n",
    "            {\n",
    "                \"role\": \"user\",\n",
    "                \"content\": [\n",
    "                    {\n",
    "                        \"type\": \"video\",\n",
    "                        \"video\": process_path,\n",
    "                        \"max_pixels\": 360 * 420,\n",
    "                        \"fps\": 1.0,\n",
    "                    },\n",
    "                    {\n",
    "                        \"type\": \"text\", \n",
    "                        \"text\": \"\"\"\n",
    "                            Is there a strong indication of suspicious store activity in this video such as shoplifting or not. \n",
    "                            Reply with two fields\n",
    "                            answer: Yes or No\n",
    "                            reason: Your reason\n",
    "                            \"\"\"\n",
    "                    },\n",
    "                ],\n",
    "            }\n",
    "        ]\n",
    "\n",
    "    else:\n",
    "\n",
    "        return [\n",
    "            {\n",
    "                \"role\": \"user\",\n",
    "                \"content\": [\n",
    "                    {\n",
    "                        \"type\": \"video\",\n",
    "                        \"video\": \"/home/ubuntu/shopping-activitity-detection/media/video-6.mp4\",\n",
    "                        \"max_pixels\": 360 * 420,\n",
    "                        \"fps\": 1.0,\n",
    "                    },\n",
    "                    {\n",
    "                        \"type\": \"text\", \n",
    "                        \"text\": \"\"\"Is there an indication of suspicious store activity in this video such as shoplifting or not. \n",
    "                            Reply with two fields\n",
    "                            answer: Yes or No\n",
    "                            reason: Your reason\"\"\"\n",
    "                    },\n",
    "                ],\n",
    "            },\n",
    "            {\n",
    "                \"role\": \"assistant\",\n",
    "                \"content\": [\n",
    "                    {\n",
    "                        \"type\": \"text\", \n",
    "                        \"text\": \"\"\"Yes\\nReason: The video shows a man picking office supplies from a table and hiding them in his pockets in a suspicious manner\"\"\"\n",
    "                    },\n",
    "                ],\n",
    "            },\n",
    "            {\n",
    "                \"role\": \"user\",\n",
    "                \"content\": [\n",
    "                    {\n",
    "                        \"type\": \"video\",\n",
    "                        \"video\": \"/home/ubuntu/shopping-activitity-detection/media/video-3.mp4\",\n",
    "                        \"max_pixels\": 360 * 420,\n",
    "                        \"fps\": 1.0,\n",
    "                    },\n",
    "                    {\n",
    "                        \"type\": \"text\", \n",
    "                        \"text\": \"\"\"Is there an indication of suspicious store activity in this video such as shoplifting or not. \n",
    "                            Reply with two fields\n",
    "                            answer: Yes or No\n",
    "                            reason: Your reason\"\"\"\n",
    "                    },\n",
    "                ],\n",
    "            },\n",
    "            {\n",
    "                \"role\": \"assistant\",\n",
    "                \"content\": [\n",
    "                    {\n",
    "                        \"type\": \"text\", \n",
    "                        \"text\": \"\"\"No\\nReason: The video shows one man casually shopping with a basket and another browsing items on the shelf, no strong signs of shoplifting\"\"\"\n",
    "                    },\n",
    "                ],\n",
    "            },\n",
    "            {\n",
    "                \"role\": \"user\",\n",
    "                \"content\": [\n",
    "                    {\n",
    "                        \"type\": \"video\",\n",
    "                        \"video\": process_path,\n",
    "                        \"max_pixels\": 360 * 420,\n",
    "                        \"fps\": 1.0,\n",
    "                    },\n",
    "                    {\n",
    "                        \"type\": \"text\", \n",
    "                        \"text\": \"\"\"\n",
    "                            Is there a strong indication of suspicious store activity in this video such as shoplifting or not. \n",
    "                            Reply with two fields\n",
    "                            answer: Yes or No\n",
    "                            reason: Your reason\n",
    "                            \"\"\"\n",
    "                    },\n",
    "                ],\n",
    "            }\n",
    "        ]\n",
    "    \n",
    "\n",
    "def get_video_duration(video_path):\n",
    "    \"\"\"Get the duration of a video in seconds.\"\"\"\n",
    "    try:\n",
    "        clip = VideoFileClip(video_path)\n",
    "        duration = clip.duration\n",
    "        clip.close()\n",
    "        return duration\n",
    "    except Exception as e:\n",
    "        raise Exception(f\"Error getting video duration: {str(e)}\")\n",
    "\n",
    "def trim_video(input_path, output_path, duration=30):\n",
    "    \"\"\"Trim video to specified duration in seconds.\"\"\"\n",
    "    try:\n",
    "        with VideoFileClip(input_path) as clip:\n",
    "            trimmed_clip = clip.subclip(0, duration)\n",
    "            trimmed_clip.write_videofile(output_path, \n",
    "                                       codec='libx264', \n",
    "                                       audio=False,\n",
    "                                       logger=None)  \n",
    "    except Exception as e:\n",
    "        raise Exception(f\"Error trimming video: {str(e)}\")\n",
    "\n",
    "def sample_frames_dynamic_v1(video_path, output_path, target_frames=30):\n",
    "    try:\n",
    "        cap = cv2.VideoCapture(video_path)\n",
    "        fps = 1 #cap.get(cv2.CAP_PROP_FPS)\n",
    "        total_frames = int(cap.get(cv2.CAP_PROP_FRAME_COUNT))\n",
    "        width = int(cap.get(cv2.CAP_PROP_FRAME_WIDTH))\n",
    "        height = int(cap.get(cv2.CAP_PROP_FRAME_HEIGHT))\n",
    "        duration = total_frames / fps\n",
    "        print(f\"Video duration: {duration:.2f} seconds, Total frames: {total_frames}\")\n",
    "\n",
    "        sampling_interval = max(1, int(total_frames / target_frames))\n",
    "        print(f\"Sampling every {sampling_interval} frames to extract {target_frames} frames.\")\n",
    "        \n",
    "        fourcc = cv2.VideoWriter_fourcc(*'mp4v')  # Codec for MP4\n",
    "        out = cv2.VideoWriter(output_path, fourcc, fps, (width, height))\n",
    "        \n",
    "        frame_count = 0\n",
    "        saved_count = 0\n",
    "\n",
    "        while True:\n",
    "            ret, frame = cap.read()\n",
    "            if not ret:\n",
    "                break\n",
    "            if frame_count % sampling_interval == 0 and saved_count < target_frames:\n",
    "                out.write(frame)\n",
    "                saved_count += 1\n",
    "            frame_count += 1\n",
    "            if saved_count >= target_frames:\n",
    "                break\n",
    "        cap.release()\n",
    "        out.release()\n",
    "    except Exception as e:\n",
    "        raise Exception(f\"Error sampling and recreating video: {str(e)}\")\n",
    "\n",
    "def sample_frames_dynamic_v2(video_path, output_path, target_frames=30, target_duration=30, output_fps=30):\n",
    "    try:\n",
    "        cap = cv2.VideoCapture(video_path)\n",
    "        input_fps = cap.get(cv2.CAP_PROP_FPS)\n",
    "        total_frames = int(cap.get(cv2.CAP_PROP_FRAME_COUNT))\n",
    "        width = int(cap.get(cv2.CAP_PROP_FRAME_WIDTH))\n",
    "        height = int(cap.get(cv2.CAP_PROP_FRAME_HEIGHT))\n",
    "        \n",
    "        input_duration = total_frames / input_fps      \n",
    "        target_frames = target_duration * output_fps\n",
    "        sampling_interval = max(1, total_frames / target_frames)\n",
    "        fourcc = cv2.VideoWriter_fourcc(*'mp4v')\n",
    "        out = cv2.VideoWriter(output_path, fourcc, output_fps, (width, height))\n",
    "        frame_count = 0\n",
    "        saved_count = 0\n",
    "        \n",
    "        while True:\n",
    "            ret, frame = cap.read()\n",
    "            if not ret:\n",
    "                break\n",
    "            if frame_count >= saved_count * sampling_interval and saved_count < target_frames:\n",
    "                out.write(frame)\n",
    "                saved_count += 1\n",
    "            frame_count += 1\n",
    "            if saved_count >= target_frames:\n",
    "                break\n",
    "        \n",
    "        cap.release()\n",
    "        out.release()\n",
    "        \n",
    "    except Exception as e:\n",
    "        raise Exception(f\"Error sampling and recreating video: {str(e)}\")\n",
    "\n",
    "def process_video_directory(video_dir, output_csv, max_duration=30):\n",
    "    results = []\n",
    "    temp_dir = tempfile.mkdtemp()\n",
    "    video_files = [f for f in os.listdir(video_dir) if f.endswith(('.mp4', '.avi', '.mov'))]\n",
    "    \n",
    "    for video_file in tqdm(video_files):\n",
    "        try:\n",
    "            video_path = os.path.join(video_dir, video_file)\n",
    "            print(f\"\\nProcessing {video_file}...\")\n",
    "            \n",
    "            duration = get_video_duration(video_path)\n",
    "            print(f\"Video duration: {duration:.2f} seconds\")\n",
    "            \n",
    "            if duration > max_duration:\n",
    "                sampled_frames_dir = os.path.join(temp_dir, f\"resampled_{(video_file)}\")\n",
    "                sample_frames_dynamic_v1(video_path, sampled_frames_dir)\n",
    "                process_path = sampled_frames_dir \n",
    "                print(\"Frame sampling complete\")\n",
    "            else:\n",
    "                process_path = video_path\n",
    "\n",
    "            ## uncomment for 30-second trimming\n",
    "\n",
    "            # if duration > max_duration:\n",
    "            #     print(f\"Video longer than {max_duration} seconds, trimming...\")\n",
    "            #     temp_video_path = os.path.join(temp_dir, f\"trimmed_{video_file}\")\n",
    "            #     trim_video(video_path, temp_video_path, max_duration)\n",
    "            #     process_path = temp_video_path\n",
    "            # else:\n",
    "            #     process_path = video_path\n",
    "            \n",
    "            messages = prepare_messages(process_path, mode=\"zero_shot\")\n",
    "\n",
    "            text = processor.apply_chat_template(\n",
    "                messages, tokenize=False, add_generation_prompt=True\n",
    "            )\n",
    "            image_inputs, video_inputs = process_vision_info(messages)\n",
    "            inputs = processor(\n",
    "                text=[text],\n",
    "                images=image_inputs,\n",
    "                videos=video_inputs,\n",
    "                padding=True,\n",
    "                return_tensors=\"pt\",\n",
    "            )\n",
    "            inputs = inputs.to(\"cuda\")\n",
    "\n",
    "            # Generate response\n",
    "            generated_ids = model.generate(**inputs, max_new_tokens=128)\n",
    "            generated_ids_trimmed = [\n",
    "                out_ids[len(in_ids):] for in_ids, out_ids in zip(inputs.input_ids, generated_ids)\n",
    "            ]\n",
    "            output_text = processor.batch_decode(\n",
    "                generated_ids_trimmed, skip_special_tokens=True, clean_up_tokenization_spaces=False\n",
    "            )[0]\n",
    "\n",
    "            response_lines = output_text.strip().split('\\n')\n",
    "            \n",
    "            answer = response_lines[0].split(': ')[-1].strip()\n",
    "            reason = response_lines[1].split(': ')[1].strip()\n",
    "\n",
    "            results.append({\n",
    "                'filename': video_file,\n",
    "                'duration': duration,\n",
    "                'trimmed': duration > max_duration,\n",
    "                'anomaly': answer,\n",
    "                'reason': reason,\n",
    "            })\n",
    "            \n",
    "            print(f\"Analysis complete - Anomaly detected: {answer}\")\n",
    "            \n",
    "        except Exception as e:\n",
    "            print(f\"Error processing {video_file}: {str(e)}\")\n",
    "            results.append({\n",
    "                'filename': video_file,\n",
    "                'duration': -1,\n",
    "                'trimmed': False,\n",
    "                'anomaly': 'ERROR',\n",
    "                'reason': str(e)\n",
    "            })\n",
    "\n",
    "    try:\n",
    "        import shutil\n",
    "        shutil.rmtree(temp_dir)\n",
    "        print(f\"\\nCleaned up temporary directory: {temp_dir}\")\n",
    "    except Exception as e:\n",
    "        print(f\"Error cleaning up temporary directory: {str(e)}\")\n",
    "\n",
    "    df = pd.DataFrame(results)\n",
    "    df.to_csv(output_csv, index=False)\n",
    "    print(f\"\\nResults saved to {output_csv}\")\n",
    "    return df\n",
    "\n",
    "\n",
    "VIDEO_DIR = \"/home/ubuntu/shopping-activitity-detection/All-Shoplifting\"  \n",
    "OUTPUT_CSV = \"qwen_results.csv\"\n",
    "MAX_DURATION = 30 \n",
    "\n",
    "results_df = process_video_directory(VIDEO_DIR, OUTPUT_CSV, MAX_DURATION)\n",
    "print(\"\\nAnalysis Summary:\")\n",
    "print(f\"Total videos processed: {len(results_df)}\")\n",
    "print(f\"Videos trimmed: {len(results_df[results_df['trimmed']])}\")\n",
    "print(f\"Anomalies detected: {len(results_df[results_df['anomaly'] == 'Yes'])}\")\n",
    "print(f\"Processing errors: {len(results_df[results_df['anomaly'] == 'ERROR'])}\")"
   ]
  },
  {
   "cell_type": "code",
   "execution_count": null,
   "id": "24da1df8",
   "metadata": {},
   "outputs": [
    {
     "name": "stderr",
     "output_type": "stream",
     "text": [
      "huggingface/tokenizers: The current process just got forked, after parallelism has already been used. Disabling parallelism to avoid deadlocks...\n",
      "To disable this warning, you can either:\n",
      "\t- Avoid using `tokenizers` before the fork if possible\n",
      "\t- Explicitly set the environment variable TOKENIZERS_PARALLELISM=(true | false)\n"
     ]
    },
    {
     "name": "stdout",
     "output_type": "stream",
     "text": [
      "Error: Could not find file - [Errno 2] No such file or directory: 'qwen_result.csv'\n"
     ]
    }
   ],
   "source": [
    "# python3 evaluate.py --csv qwen_result.csv"
   ]
  },
  {
   "cell_type": "markdown",
   "id": "3d7f8cc1",
   "metadata": {},
   "source": [
    "This calculates the prediction accuracy, precision and recall etc."
   ]
  }
 ],
 "metadata": {
  "kernelspec": {
   "display_name": "Python 3 (ipykernel)",
   "language": "python",
   "name": "python3"
  },
  "language_info": {
   "codemirror_mode": {
    "name": "ipython",
    "version": 3
   },
   "file_extension": ".py",
   "mimetype": "text/x-python",
   "name": "python",
   "nbconvert_exporter": "python",
   "pygments_lexer": "ipython3",
   "version": "3.10.12"
  }
 },
 "nbformat": 4,
 "nbformat_minor": 5
}
