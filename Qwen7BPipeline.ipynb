{
 "cells": [
  {
   "cell_type": "code",
   "execution_count": 1,
   "id": "dde702e0-a076-4940-b7b2-c461b3802ed8",
   "metadata": {},
   "outputs": [
    {
     "name": "stderr",
     "output_type": "stream",
     "text": [
      "/home/ubuntu/.local/lib/python3.10/site-packages/tqdm/auto.py:21: TqdmWarning: IProgress not found. Please update jupyter and ipywidgets. See https://ipywidgets.readthedocs.io/en/stable/user_install.html\n",
      "  from .autonotebook import tqdm as notebook_tqdm\n",
      "2024-11-18 07:20:13.762902: E external/local_xla/xla/stream_executor/cuda/cuda_fft.cc:485] Unable to register cuFFT factory: Attempting to register factory for plugin cuFFT when one has already been registered\n",
      "2024-11-18 07:20:13.780262: E external/local_xla/xla/stream_executor/cuda/cuda_dnn.cc:8463] Unable to register cuDNN factory: Attempting to register factory for plugin cuDNN when one has already been registered\n",
      "2024-11-18 07:20:13.785645: E external/local_xla/xla/stream_executor/cuda/cuda_blas.cc:1452] Unable to register cuBLAS factory: Attempting to register factory for plugin cuBLAS when one has already been registered\n",
      "`Qwen2VLRotaryEmbedding` can now be fully parameterized by passing the model config through the `config` argument. All other arguments will be removed in v4.46\n",
      "Loading checkpoint shards: 100%|██████████| 5/5 [00:04<00:00,  1.24it/s]\n"
     ]
    }
   ],
   "source": [
    "from transformers import Qwen2VLForConditionalGeneration, AutoTokenizer, AutoProcessor\n",
    "from qwen_vl_utils import process_vision_info\n",
    "\n",
    "model = Qwen2VLForConditionalGeneration.from_pretrained(\n",
    "    \"Qwen/Qwen2-VL-7B-Instruct\", torch_dtype=\"auto\", device_map=\"auto\"\n",
    ")\n",
    "\n",
    "processor = AutoProcessor.from_pretrained(\"Qwen/Qwen2-VL-7B-Instruct\")"
   ]
  },
  {
   "cell_type": "code",
   "execution_count": 2,
   "id": "62218987-9627-4a9c-8cde-bfc8b31e0fc2",
   "metadata": {
    "scrolled": true
   },
   "outputs": [
    {
     "name": "stderr",
     "output_type": "stream",
     "text": [
      "  0%|          | 0/49 [00:00<?, ?it/s]"
     ]
    },
    {
     "name": "stdout",
     "output_type": "stream",
     "text": [
      "\n",
      "Processing Shoplifting052_x264.mp4...\n",
      "Video duration: 254.88 seconds\n",
      "Video duration: 7646.00 seconds, Total frames: 7646\n",
      "Sampling every 254 frames to extract 30 frames.\n",
      "Frame sampling complete\n"
     ]
    },
    {
     "name": "stderr",
     "output_type": "stream",
     "text": [
      "qwen-vl-utils using torchvision to read video.\n",
      "  2%|▏         | 1/49 [00:09<07:44,  9.67s/it]"
     ]
    },
    {
     "name": "stdout",
     "output_type": "stream",
     "text": [
      "Analysis complete - Anomaly detected: Yes\n",
      "\n",
      "Processing Shoplifting034_x264.mp4...\n",
      "Video duration: 397.90 seconds\n",
      "Video duration: 11937.00 seconds, Total frames: 11937\n",
      "Sampling every 397 frames to extract 30 frames.\n",
      "Frame sampling complete\n"
     ]
    },
    {
     "name": "stderr",
     "output_type": "stream",
     "text": [
      "  4%|▍         | 2/49 [00:19<07:35,  9.69s/it]"
     ]
    },
    {
     "name": "stdout",
     "output_type": "stream",
     "text": [
      "Analysis complete - Anomaly detected: Yes\n",
      "\n",
      "Processing Shoplifting004_x264.mp4...\n",
      "Video duration: 222.48 seconds\n",
      "Video duration: 6673.00 seconds, Total frames: 6673\n",
      "Sampling every 222 frames to extract 30 frames.\n",
      "Frame sampling complete\n"
     ]
    },
    {
     "name": "stderr",
     "output_type": "stream",
     "text": [
      "  6%|▌         | 3/49 [00:28<07:08,  9.32s/it]"
     ]
    },
    {
     "name": "stdout",
     "output_type": "stream",
     "text": [
      "Analysis complete - Anomaly detected: Yes\n",
      "\n",
      "Processing Shoplifting038_x264.mp4...\n",
      "Video duration: 96.83 seconds\n",
      "Video duration: 2904.00 seconds, Total frames: 2904\n",
      "Sampling every 96 frames to extract 30 frames.\n",
      "Frame sampling complete\n"
     ]
    },
    {
     "name": "stderr",
     "output_type": "stream",
     "text": [
      "  8%|▊         | 4/49 [00:36<06:42,  8.94s/it]"
     ]
    },
    {
     "name": "stdout",
     "output_type": "stream",
     "text": [
      "Analysis complete - Anomaly detected: Yes\n",
      "\n",
      "Processing Shoplifting016_x264.mp4...\n",
      "Video duration: 49.47 seconds\n",
      "Video duration: 1483.00 seconds, Total frames: 1483\n",
      "Sampling every 49 frames to extract 30 frames.\n",
      "Frame sampling complete\n"
     ]
    },
    {
     "name": "stderr",
     "output_type": "stream",
     "text": [
      " 10%|█         | 5/49 [00:44<06:21,  8.67s/it]"
     ]
    },
    {
     "name": "stdout",
     "output_type": "stream",
     "text": [
      "Analysis complete - Anomaly detected: Yes\n",
      "\n",
      "Processing Shoplifting017_x264.mp4...\n",
      "Video duration: 15.34 seconds\n"
     ]
    },
    {
     "name": "stderr",
     "output_type": "stream",
     "text": [
      " 12%|█▏        | 6/49 [00:51<05:41,  7.93s/it]"
     ]
    },
    {
     "name": "stdout",
     "output_type": "stream",
     "text": [
      "Analysis complete - Anomaly detected: Yes\n",
      "\n",
      "Processing Shoplifting041_x264.mp4...\n",
      "Video duration: 411.30 seconds\n",
      "Video duration: 12335.00 seconds, Total frames: 12335\n",
      "Sampling every 411 frames to extract 30 frames.\n",
      "Frame sampling complete\n"
     ]
    },
    {
     "name": "stderr",
     "output_type": "stream",
     "text": [
      " 14%|█▍        | 7/49 [01:00<05:53,  8.42s/it]"
     ]
    },
    {
     "name": "stdout",
     "output_type": "stream",
     "text": [
      "Analysis complete - Anomaly detected: Yes\n",
      "\n",
      "Processing video-7.mp4...\n",
      "Video duration: 11.20 seconds\n"
     ]
    },
    {
     "name": "stderr",
     "output_type": "stream",
     "text": [
      " 16%|█▋        | 8/49 [01:07<05:23,  7.89s/it]"
     ]
    },
    {
     "name": "stdout",
     "output_type": "stream",
     "text": [
      "Analysis complete - Anomaly detected: Yes\n",
      "\n",
      "Processing Shoplifting044_x264.mp4...\n",
      "Video duration: 485.17 seconds\n",
      "Video duration: 14555.00 seconds, Total frames: 14555\n",
      "Sampling every 485 frames to extract 30 frames.\n",
      "Frame sampling complete\n"
     ]
    },
    {
     "name": "stderr",
     "output_type": "stream",
     "text": [
      " 18%|█▊        | 9/49 [01:17<05:42,  8.57s/it]"
     ]
    },
    {
     "name": "stdout",
     "output_type": "stream",
     "text": [
      "Analysis complete - Anomaly detected: Yes\n",
      "\n",
      "Processing Shoplifting054_x264.mp4...\n",
      "Video duration: 34.23 seconds\n",
      "Video duration: 1025.00 seconds, Total frames: 1025\n",
      "Sampling every 34 frames to extract 30 frames.\n",
      "Frame sampling complete\n"
     ]
    },
    {
     "name": "stderr",
     "output_type": "stream",
     "text": [
      " 20%|██        | 10/49 [01:25<05:24,  8.32s/it]"
     ]
    },
    {
     "name": "stdout",
     "output_type": "stream",
     "text": [
      "Analysis complete - Anomaly detected: Yes\n",
      "\n",
      "Processing Shoplifting055_x264.mp4...\n",
      "Video duration: 225.70 seconds\n",
      "Video duration: 6770.00 seconds, Total frames: 6770\n",
      "Sampling every 225 frames to extract 30 frames.\n",
      "Frame sampling complete\n"
     ]
    },
    {
     "name": "stderr",
     "output_type": "stream",
     "text": [
      "It looks like you are trying to rescale already rescaled images. If the input images have pixel values between 0 and 1, set `do_rescale=False` to avoid rescaling them again.\n",
      " 22%|██▏       | 11/49 [01:33<05:19,  8.40s/it]"
     ]
    },
    {
     "name": "stdout",
     "output_type": "stream",
     "text": [
      "Analysis complete - Anomaly detected: Yes\n",
      "\n",
      "Processing Shoplifting026_x264.mp4...\n",
      "Video duration: 47.09 seconds\n",
      "Video duration: 1410.00 seconds, Total frames: 1410\n",
      "Sampling every 47 frames to extract 30 frames.\n",
      "Frame sampling complete\n"
     ]
    },
    {
     "name": "stderr",
     "output_type": "stream",
     "text": [
      " 24%|██▍       | 12/49 [01:42<05:09,  8.36s/it]"
     ]
    },
    {
     "name": "stdout",
     "output_type": "stream",
     "text": [
      "Analysis complete - Anomaly detected: Yes\n",
      "\n",
      "Processing Shoplifting019_x264.mp4...\n",
      "Video duration: 21.92 seconds\n"
     ]
    },
    {
     "name": "stderr",
     "output_type": "stream",
     "text": [
      " 27%|██▋       | 13/49 [01:49<04:47,  7.97s/it]"
     ]
    },
    {
     "name": "stdout",
     "output_type": "stream",
     "text": [
      "Analysis complete - Anomaly detected: Yes\n",
      "\n",
      "Processing Shoplifting030_x264.mp4...\n",
      "Video duration: 806.48 seconds\n",
      "Video duration: 24193.00 seconds, Total frames: 24193\n",
      "Sampling every 806 frames to extract 30 frames.\n",
      "Frame sampling complete\n"
     ]
    },
    {
     "name": "stderr",
     "output_type": "stream",
     "text": [
      " 29%|██▊       | 14/49 [01:59<05:07,  8.78s/it]"
     ]
    },
    {
     "name": "stdout",
     "output_type": "stream",
     "text": [
      "Analysis complete - Anomaly detected: Yes\n",
      "\n",
      "Processing Shoplifting047_x264.mp4...\n",
      "Video duration: 79.29 seconds\n",
      "Video duration: 2377.00 seconds, Total frames: 2377\n",
      "Sampling every 79 frames to extract 30 frames.\n",
      "Frame sampling complete\n"
     ]
    },
    {
     "name": "stderr",
     "output_type": "stream",
     "text": [
      " 31%|███       | 15/49 [02:07<04:49,  8.52s/it]"
     ]
    },
    {
     "name": "stdout",
     "output_type": "stream",
     "text": [
      "Analysis complete - Anomaly detected: Yes\n",
      "\n",
      "Processing Shoplifting031_x264.mp4...\n",
      "Video duration: 14.94 seconds\n"
     ]
    },
    {
     "name": "stderr",
     "output_type": "stream",
     "text": [
      " 33%|███▎      | 16/49 [02:14<04:22,  7.97s/it]"
     ]
    },
    {
     "name": "stdout",
     "output_type": "stream",
     "text": [
      "Analysis complete - Anomaly detected: Yes\n",
      "\n",
      "Processing Shoplifting028_x264.mp4...\n",
      "Video duration: 45.28 seconds\n",
      "Video duration: 1357.00 seconds, Total frames: 1357\n",
      "Sampling every 45 frames to extract 30 frames.\n",
      "Frame sampling complete\n"
     ]
    },
    {
     "name": "stderr",
     "output_type": "stream",
     "text": [
      " 35%|███▍      | 17/49 [02:22<04:15,  7.98s/it]"
     ]
    },
    {
     "name": "stdout",
     "output_type": "stream",
     "text": [
      "Analysis complete - Anomaly detected: Yes\n",
      "\n",
      "Processing video-5.mp4...\n",
      "Video duration: 10.00 seconds\n"
     ]
    },
    {
     "name": "stderr",
     "output_type": "stream",
     "text": [
      " 37%|███▋      | 18/49 [02:28<03:50,  7.44s/it]"
     ]
    },
    {
     "name": "stdout",
     "output_type": "stream",
     "text": [
      "Analysis complete - Anomaly detected: Yes\n",
      "\n",
      "Processing Shoplifting010_x264.mp4...\n",
      "Video duration: 91.20 seconds\n",
      "Video duration: 2736.00 seconds, Total frames: 2736\n",
      "Sampling every 91 frames to extract 30 frames.\n",
      "Frame sampling complete\n"
     ]
    },
    {
     "name": "stderr",
     "output_type": "stream",
     "text": [
      " 39%|███▉      | 19/49 [02:37<03:53,  7.80s/it]"
     ]
    },
    {
     "name": "stdout",
     "output_type": "stream",
     "text": [
      "Analysis complete - Anomaly detected: Yes\n",
      "\n",
      "Processing Shoplifting042_x264.mp4...\n",
      "Video duration: 170.75 seconds\n",
      "Video duration: 5121.00 seconds, Total frames: 5121\n",
      "Sampling every 170 frames to extract 30 frames.\n",
      "Frame sampling complete\n"
     ]
    },
    {
     "name": "stderr",
     "output_type": "stream",
     "text": [
      " 41%|████      | 20/49 [02:45<03:47,  7.84s/it]"
     ]
    },
    {
     "name": "stdout",
     "output_type": "stream",
     "text": [
      "Analysis complete - Anomaly detected: Yes\n",
      "\n",
      "Processing Shoplifting049_x264.mp4...\n",
      "Video duration: 71.67 seconds\n",
      "Video duration: 2149.00 seconds, Total frames: 2149\n",
      "Sampling every 71 frames to extract 30 frames.\n",
      "Frame sampling complete\n"
     ]
    },
    {
     "name": "stderr",
     "output_type": "stream",
     "text": [
      " 43%|████▎     | 21/49 [02:52<03:35,  7.70s/it]"
     ]
    },
    {
     "name": "stdout",
     "output_type": "stream",
     "text": [
      "Analysis complete - Anomaly detected: Yes\n",
      "\n",
      "Processing Shoplifting009_x264.mp4...\n",
      "Video duration: 173.37 seconds\n",
      "Video duration: 5201.00 seconds, Total frames: 5201\n",
      "Sampling every 173 frames to extract 30 frames.\n",
      "Frame sampling complete\n"
     ]
    },
    {
     "name": "stderr",
     "output_type": "stream",
     "text": [
      " 45%|████▍     | 22/49 [03:00<03:30,  7.79s/it]"
     ]
    },
    {
     "name": "stdout",
     "output_type": "stream",
     "text": [
      "Analysis complete - Anomaly detected: Yes\n",
      "\n",
      "Processing Shoplifting050_x264.mp4...\n",
      "Video duration: 83.63 seconds\n",
      "Video duration: 2506.00 seconds, Total frames: 2506\n",
      "Sampling every 83 frames to extract 30 frames.\n",
      "Frame sampling complete\n"
     ]
    },
    {
     "name": "stderr",
     "output_type": "stream",
     "text": [
      " 47%|████▋     | 23/49 [03:08<03:25,  7.89s/it]"
     ]
    },
    {
     "name": "stdout",
     "output_type": "stream",
     "text": [
      "Analysis complete - Anomaly detected: Yes\n",
      "\n",
      "Processing Shoplifting036_x264.mp4...\n",
      "Video duration: 121.98 seconds\n",
      "Video duration: 3657.00 seconds, Total frames: 3657\n",
      "Sampling every 121 frames to extract 30 frames.\n",
      "Frame sampling complete\n"
     ]
    },
    {
     "name": "stderr",
     "output_type": "stream",
     "text": [
      " 49%|████▉     | 24/49 [03:17<03:24,  8.19s/it]"
     ]
    },
    {
     "name": "stdout",
     "output_type": "stream",
     "text": [
      "Analysis complete - Anomaly detected: Yes\n",
      "\n",
      "Processing Shoplifting037_x264.mp4...\n",
      "Video duration: 46.22 seconds\n",
      "Video duration: 1386.00 seconds, Total frames: 1386\n",
      "Sampling every 46 frames to extract 30 frames.\n",
      "Frame sampling complete\n"
     ]
    },
    {
     "name": "stderr",
     "output_type": "stream",
     "text": [
      " 51%|█████     | 25/49 [03:25<03:10,  7.95s/it]"
     ]
    },
    {
     "name": "stdout",
     "output_type": "stream",
     "text": [
      "Analysis complete - Anomaly detected: Yes\n",
      "\n",
      "Processing Shoplifting032_x264.mp4...\n",
      "Video duration: 47.59 seconds\n",
      "Video duration: 1426.00 seconds, Total frames: 1426\n",
      "Sampling every 47 frames to extract 30 frames.\n",
      "Frame sampling complete\n"
     ]
    },
    {
     "name": "stderr",
     "output_type": "stream",
     "text": [
      " 53%|█████▎    | 26/49 [03:32<02:59,  7.80s/it]"
     ]
    },
    {
     "name": "stdout",
     "output_type": "stream",
     "text": [
      "Analysis complete - Anomaly detected: Yes\n",
      "\n",
      "Processing Shoplifting053_x264.mp4...\n",
      "Video duration: 69.94 seconds\n",
      "Video duration: 2097.00 seconds, Total frames: 2097\n",
      "Sampling every 69 frames to extract 30 frames.\n",
      "Frame sampling complete\n"
     ]
    },
    {
     "name": "stderr",
     "output_type": "stream",
     "text": [
      " 55%|█████▌    | 27/49 [03:40<02:51,  7.80s/it]"
     ]
    },
    {
     "name": "stdout",
     "output_type": "stream",
     "text": [
      "Analysis complete - Anomaly detected: Yes\n",
      "\n",
      "Processing video-6.mp4...\n",
      "Video duration: 11.90 seconds\n"
     ]
    },
    {
     "name": "stderr",
     "output_type": "stream",
     "text": [
      " 57%|█████▋    | 28/49 [03:47<02:40,  7.63s/it]"
     ]
    },
    {
     "name": "stdout",
     "output_type": "stream",
     "text": [
      "Analysis complete - Anomaly detected: Yes\n",
      "\n",
      "Processing Shoplifting025_x264.mp4...\n",
      "Video duration: 60.94 seconds\n",
      "Video duration: 1824.00 seconds, Total frames: 1824\n",
      "Sampling every 60 frames to extract 30 frames.\n",
      "Frame sampling complete\n"
     ]
    },
    {
     "name": "stderr",
     "output_type": "stream",
     "text": [
      " 59%|█████▉    | 29/49 [03:56<02:39,  8.00s/it]"
     ]
    },
    {
     "name": "stdout",
     "output_type": "stream",
     "text": [
      "Analysis complete - Anomaly detected: Yes\n",
      "\n",
      "Processing Shoplifting040_x264.mp4...\n",
      "Video duration: 907.05 seconds\n",
      "Video duration: 27208.00 seconds, Total frames: 27208\n",
      "Sampling every 906 frames to extract 30 frames.\n",
      "Frame sampling complete\n"
     ]
    },
    {
     "name": "stderr",
     "output_type": "stream",
     "text": [
      " 61%|██████    | 30/49 [04:07<02:49,  8.94s/it]"
     ]
    },
    {
     "name": "stdout",
     "output_type": "stream",
     "text": [
      "Analysis complete - Anomaly detected: Yes\n",
      "\n",
      "Processing Shoplifting043_x264.mp4...\n",
      "Video duration: 317.30 seconds\n",
      "Video duration: 9518.00 seconds, Total frames: 9518\n",
      "Sampling every 317 frames to extract 30 frames.\n",
      "Frame sampling complete\n"
     ]
    },
    {
     "name": "stderr",
     "output_type": "stream",
     "text": [
      " 63%|██████▎   | 31/49 [04:16<02:42,  9.01s/it]"
     ]
    },
    {
     "name": "stdout",
     "output_type": "stream",
     "text": [
      "Analysis complete - Anomaly detected: Yes\n",
      "\n",
      "Processing Shoplifting006_x264.mp4...\n",
      "Video duration: 105.20 seconds\n",
      "Video duration: 3156.00 seconds, Total frames: 3156\n",
      "Sampling every 105 frames to extract 30 frames.\n",
      "Frame sampling complete\n"
     ]
    },
    {
     "name": "stderr",
     "output_type": "stream",
     "text": [
      " 65%|██████▌   | 32/49 [04:24<02:27,  8.67s/it]"
     ]
    },
    {
     "name": "stdout",
     "output_type": "stream",
     "text": [
      "Analysis complete - Anomaly detected: Yes\n",
      "\n",
      "Processing Shoplifting020_x264.mp4...\n",
      "Video duration: 192.37 seconds\n",
      "Video duration: 5770.00 seconds, Total frames: 5770\n",
      "Sampling every 192 frames to extract 30 frames.\n",
      "Frame sampling complete\n"
     ]
    },
    {
     "name": "stderr",
     "output_type": "stream",
     "text": [
      " 67%|██████▋   | 33/49 [04:32<02:17,  8.59s/it]"
     ]
    },
    {
     "name": "stdout",
     "output_type": "stream",
     "text": [
      "Analysis complete - Anomaly detected: Yes\n",
      "\n",
      "Processing Shoplifting027_x264.mp4...\n",
      "Video duration: 62.47 seconds\n",
      "Video duration: 1873.00 seconds, Total frames: 1873\n",
      "Sampling every 62 frames to extract 30 frames.\n",
      "Frame sampling complete\n"
     ]
    },
    {
     "name": "stderr",
     "output_type": "stream",
     "text": [
      " 69%|██████▉   | 34/49 [04:41<02:08,  8.58s/it]"
     ]
    },
    {
     "name": "stdout",
     "output_type": "stream",
     "text": [
      "Analysis complete - Anomaly detected: Yes\n",
      "\n",
      "Processing Shoplifting014_x264.mp4...\n",
      "Video duration: 2223.27 seconds\n",
      "Video duration: 66698.00 seconds, Total frames: 66698\n",
      "Sampling every 2223 frames to extract 30 frames.\n",
      "Frame sampling complete\n"
     ]
    },
    {
     "name": "stderr",
     "output_type": "stream",
     "text": [
      " 71%|███████▏  | 35/49 [04:56<02:28, 10.61s/it]"
     ]
    },
    {
     "name": "stdout",
     "output_type": "stream",
     "text": [
      "Analysis complete - Anomaly detected: Yes\n",
      "\n",
      "Processing Shoplifting005_x264.mp4...\n",
      "Video duration: 65.57 seconds\n",
      "Video duration: 1967.00 seconds, Total frames: 1967\n",
      "Sampling every 65 frames to extract 30 frames.\n",
      "Frame sampling complete\n"
     ]
    },
    {
     "name": "stderr",
     "output_type": "stream",
     "text": [
      " 73%|███████▎  | 36/49 [05:04<02:06,  9.69s/it]"
     ]
    },
    {
     "name": "stdout",
     "output_type": "stream",
     "text": [
      "Analysis complete - Anomaly detected: Yes\n",
      "\n",
      "Processing Shoplifting001_x264.mp4...\n",
      "Video duration: 144.88 seconds\n",
      "Video duration: 4344.00 seconds, Total frames: 4344\n",
      "Sampling every 144 frames to extract 30 frames.\n",
      "Frame sampling complete\n"
     ]
    },
    {
     "name": "stderr",
     "output_type": "stream",
     "text": [
      " 76%|███████▌  | 37/49 [05:12<01:50,  9.22s/it]"
     ]
    },
    {
     "name": "stdout",
     "output_type": "stream",
     "text": [
      "Analysis complete - Anomaly detected: Yes\n",
      "\n",
      "Processing Shoplifting051_x264.mp4...\n",
      "Video duration: 240.64 seconds\n",
      "Video duration: 7218.00 seconds, Total frames: 7218\n",
      "Sampling every 240 frames to extract 30 frames.\n",
      "Frame sampling complete\n"
     ]
    },
    {
     "name": "stderr",
     "output_type": "stream",
     "text": [
      " 78%|███████▊  | 38/49 [05:21<01:39,  9.07s/it]"
     ]
    },
    {
     "name": "stdout",
     "output_type": "stream",
     "text": [
      "Analysis complete - Anomaly detected: Yes\n",
      "\n",
      "Processing video-2.mp4...\n",
      "Video duration: 21.90 seconds\n"
     ]
    },
    {
     "name": "stderr",
     "output_type": "stream",
     "text": [
      " 80%|███████▉  | 39/49 [05:31<01:34,  9.40s/it]"
     ]
    },
    {
     "name": "stdout",
     "output_type": "stream",
     "text": [
      "Analysis complete - Anomaly detected: Yes\n",
      "\n",
      "Processing Shoplifting033_x264.mp4...\n",
      "Video duration: 30.01 seconds\n",
      "Video duration: 899.00 seconds, Total frames: 899\n",
      "Sampling every 29 frames to extract 30 frames.\n",
      "Frame sampling complete\n"
     ]
    },
    {
     "name": "stderr",
     "output_type": "stream",
     "text": [
      " 82%|████████▏ | 40/49 [05:39<01:20,  8.91s/it]"
     ]
    },
    {
     "name": "stdout",
     "output_type": "stream",
     "text": [
      "Analysis complete - Anomaly detected: Yes\n",
      "\n",
      "Processing video-3.mp4...\n",
      "Video duration: 10.02 seconds\n"
     ]
    },
    {
     "name": "stderr",
     "output_type": "stream",
     "text": [
      " 84%|████████▎ | 41/49 [05:49<01:14,  9.31s/it]"
     ]
    },
    {
     "name": "stdout",
     "output_type": "stream",
     "text": [
      "Analysis complete - Anomaly detected: No\n",
      "\n",
      "Processing Shoplifting045_x264.mp4...\n",
      "Video duration: 54.73 seconds\n",
      "Video duration: 1640.00 seconds, Total frames: 1640\n",
      "Sampling every 54 frames to extract 30 frames.\n",
      "Frame sampling complete\n"
     ]
    },
    {
     "name": "stderr",
     "output_type": "stream",
     "text": [
      " 86%|████████▌ | 42/49 [05:57<01:01,  8.81s/it]"
     ]
    },
    {
     "name": "stdout",
     "output_type": "stream",
     "text": [
      "Analysis complete - Anomaly detected: Yes\n",
      "\n",
      "Processing Shoplifting048_x264.mp4...\n",
      "Video duration: 103.69 seconds\n",
      "Video duration: 3108.00 seconds, Total frames: 3108\n",
      "Sampling every 103 frames to extract 30 frames.\n",
      "Frame sampling complete\n"
     ]
    },
    {
     "name": "stderr",
     "output_type": "stream",
     "text": [
      " 88%|████████▊ | 43/49 [06:04<00:51,  8.53s/it]"
     ]
    },
    {
     "name": "stdout",
     "output_type": "stream",
     "text": [
      "Analysis complete - Anomaly detected: Yes\n",
      "\n",
      "Processing Shoplifting029_x264.mp4...\n",
      "Video duration: 72.56 seconds\n",
      "Video duration: 2176.00 seconds, Total frames: 2176\n",
      "Sampling every 72 frames to extract 30 frames.\n",
      "Frame sampling complete\n"
     ]
    },
    {
     "name": "stderr",
     "output_type": "stream",
     "text": [
      " 90%|████████▉ | 44/49 [06:12<00:41,  8.34s/it]"
     ]
    },
    {
     "name": "stdout",
     "output_type": "stream",
     "text": [
      "Analysis complete - Anomaly detected: Yes\n",
      "\n",
      "Processing Shoplifting039_x264.mp4...\n",
      "Video duration: 93.46 seconds\n",
      "Video duration: 2803.00 seconds, Total frames: 2803\n",
      "Sampling every 93 frames to extract 30 frames.\n",
      "Frame sampling complete\n"
     ]
    },
    {
     "name": "stderr",
     "output_type": "stream",
     "text": [
      " 92%|█████████▏| 45/49 [06:20<00:32,  8.14s/it]"
     ]
    },
    {
     "name": "stdout",
     "output_type": "stream",
     "text": [
      "Analysis complete - Anomaly detected: Yes\n",
      "\n",
      "Processing Shoplifting018_x264.mp4...\n",
      "Video duration: 71.16 seconds\n",
      "Video duration: 2132.00 seconds, Total frames: 2132\n",
      "Sampling every 71 frames to extract 30 frames.\n",
      "Frame sampling complete\n"
     ]
    },
    {
     "name": "stderr",
     "output_type": "stream",
     "text": [
      " 94%|█████████▍| 46/49 [06:28<00:24,  8.18s/it]"
     ]
    },
    {
     "name": "stdout",
     "output_type": "stream",
     "text": [
      "Analysis complete - Anomaly detected: Yes\n",
      "\n",
      "Processing Shoplifting015_x264.mp4...\n",
      "Video duration: 75.20 seconds\n",
      "Video duration: 2256.00 seconds, Total frames: 2256\n",
      "Sampling every 75 frames to extract 30 frames.\n",
      "Frame sampling complete\n"
     ]
    },
    {
     "name": "stderr",
     "output_type": "stream",
     "text": [
      " 96%|█████████▌| 47/49 [06:36<00:15,  7.95s/it]"
     ]
    },
    {
     "name": "stdout",
     "output_type": "stream",
     "text": [
      "Analysis complete - Anomaly detected: Yes\n",
      "\n",
      "Processing Shoplifting003_x264.mp4...\n",
      "Video duration: 360.62 seconds\n",
      "Video duration: 10817.00 seconds, Total frames: 10817\n",
      "Sampling every 360 frames to extract 30 frames.\n",
      "Frame sampling complete\n"
     ]
    },
    {
     "name": "stderr",
     "output_type": "stream",
     "text": [
      " 98%|█████████▊| 48/49 [06:45<00:08,  8.19s/it]"
     ]
    },
    {
     "name": "stdout",
     "output_type": "stream",
     "text": [
      "Analysis complete - Anomaly detected: Yes\n",
      "\n",
      "Processing video-4.mp4...\n",
      "Video duration: 19.98 seconds\n"
     ]
    },
    {
     "name": "stderr",
     "output_type": "stream",
     "text": [
      "100%|██████████| 49/49 [06:51<00:00,  8.40s/it]"
     ]
    },
    {
     "name": "stdout",
     "output_type": "stream",
     "text": [
      "Analysis complete - Anomaly detected: Yes\n",
      "\n",
      "Cleaned up temporary directory: /tmp/tmpw7xafohx\n",
      "\n",
      "Results saved to video_analysis_results.csv\n",
      "\n",
      "Analysis Summary:\n",
      "Total videos processed: 49\n",
      "Videos trimmed: 40\n",
      "Anomalies detected: 48\n",
      "Processing errors: 0\n"
     ]
    },
    {
     "name": "stderr",
     "output_type": "stream",
     "text": [
      "\n"
     ]
    }
   ],
   "source": [
    "import os\n",
    "import pandas as pd\n",
    "from pathlib import Path\n",
    "import json\n",
    "import cv2\n",
    "from moviepy.editor import VideoFileClip\n",
    "import tempfile\n",
    "from tqdm import tqdm\n",
    "\n",
    "def prepare_messages(process_path):\n",
    "    return [\n",
    "    {\n",
    "        \"role\": \"user\",\n",
    "        \"content\": [\n",
    "            {\n",
    "                \"type\": \"video\",\n",
    "                \"video\": \"/home/ubuntu/video-6.mp4\",\n",
    "                \"max_pixels\": 360 * 420,\n",
    "                \"fps\": 1.0,\n",
    "            },\n",
    "            {\n",
    "                \"type\": \"text\", \n",
    "                \"text\": \"\"\"Is there an indication of suspicious store activity in this video such as shoplifting or not. \n",
    "                    Reply with two fields\n",
    "                    answer: Yes or No\n",
    "                    reason: Your reason\"\"\"\n",
    "            },\n",
    "        ],\n",
    "    },\n",
    "    {\n",
    "        \"role\": \"assistant\",\n",
    "        \"content\": [\n",
    "            {\n",
    "                \"type\": \"text\", \n",
    "                \"text\": \"\"\"Yes\\nReason: The video shows a man picking office supplies from a table and hiding them in his pockets in a suspicious manner\"\"\"\n",
    "            },\n",
    "        ],\n",
    "    },\n",
    "    {\n",
    "        \"role\": \"user\",\n",
    "        \"content\": [\n",
    "            {\n",
    "                \"type\": \"video\",\n",
    "                \"video\": \"/home/ubuntu/video-3.mp4\",\n",
    "                \"max_pixels\": 360 * 420,\n",
    "                \"fps\": 1.0,\n",
    "            },\n",
    "            {\n",
    "                \"type\": \"text\", \n",
    "                \"text\": \"\"\"Is there an indication of suspicious store activity in this video such as shoplifting or not. \n",
    "                    Reply with two fields\n",
    "                    answer: Yes or No\n",
    "                    reason: Your reason\"\"\"\n",
    "            },\n",
    "        ],\n",
    "    },\n",
    "    {\n",
    "        \"role\": \"assistant\",\n",
    "        \"content\": [\n",
    "            {\n",
    "                \"type\": \"text\", \n",
    "                \"text\": \"\"\"No\\nReason: The video shows one man casually shopping with a basket and another browsing items on the shelf, no strong signs of shoplifting\"\"\"\n",
    "            },\n",
    "        ],\n",
    "    },\n",
    "    {\n",
    "        \"role\": \"user\",\n",
    "        \"content\": [\n",
    "            {\n",
    "                \"type\": \"video\",\n",
    "                \"video\": process_path,\n",
    "                \"max_pixels\": 360 * 420,\n",
    "                \"fps\": 1.0,\n",
    "            },\n",
    "            {\n",
    "                \"type\": \"text\", \n",
    "                \"text\": \"\"\"\n",
    "                    Is there a strong indication of suspicious store activity in this video such as shoplifting or not. \n",
    "                    Reply with two fields\n",
    "                    answer: Yes or No\n",
    "                    reason: Your reason\n",
    "                    \"\"\"\n",
    "            },\n",
    "        ],\n",
    "    }\n",
    "]\n",
    "    \n",
    "\n",
    "def get_video_duration(video_path):\n",
    "    \"\"\"Get the duration of a video in seconds.\"\"\"\n",
    "    try:\n",
    "        clip = VideoFileClip(video_path)\n",
    "        duration = clip.duration\n",
    "        clip.close()\n",
    "        return duration\n",
    "    except Exception as e:\n",
    "        raise Exception(f\"Error getting video duration: {str(e)}\")\n",
    "\n",
    "def trim_video(input_path, output_path, duration=30):\n",
    "    \"\"\"Trim video to specified duration in seconds.\"\"\"\n",
    "    try:\n",
    "        with VideoFileClip(input_path) as clip:\n",
    "            trimmed_clip = clip.subclip(0, duration)\n",
    "            trimmed_clip.write_videofile(output_path, \n",
    "                                       codec='libx264', \n",
    "                                       audio=False,\n",
    "                                       logger=None)  \n",
    "    except Exception as e:\n",
    "        raise Exception(f\"Error trimming video: {str(e)}\")\n",
    "\n",
    "def sample_frames_dynamic_v1(video_path, output_path, target_frames=30):\n",
    "    try:\n",
    "        cap = cv2.VideoCapture(video_path)\n",
    "        fps = 1 #cap.get(cv2.CAP_PROP_FPS)\n",
    "        total_frames = int(cap.get(cv2.CAP_PROP_FRAME_COUNT))\n",
    "        width = int(cap.get(cv2.CAP_PROP_FRAME_WIDTH))\n",
    "        height = int(cap.get(cv2.CAP_PROP_FRAME_HEIGHT))\n",
    "        duration = total_frames / fps\n",
    "        print(f\"Video duration: {duration:.2f} seconds, Total frames: {total_frames}\")\n",
    "\n",
    "        sampling_interval = max(1, int(total_frames / target_frames))\n",
    "        print(f\"Sampling every {sampling_interval} frames to extract {target_frames} frames.\")\n",
    "        \n",
    "        fourcc = cv2.VideoWriter_fourcc(*'mp4v')  # Codec for MP4\n",
    "        out = cv2.VideoWriter(output_path, fourcc, fps, (width, height))\n",
    "        \n",
    "        frame_count = 0\n",
    "        saved_count = 0\n",
    "\n",
    "        while True:\n",
    "            ret, frame = cap.read()\n",
    "            if not ret:\n",
    "                break\n",
    "            if frame_count % sampling_interval == 0 and saved_count < target_frames:\n",
    "                out.write(frame)\n",
    "                saved_count += 1\n",
    "            frame_count += 1\n",
    "            if saved_count >= target_frames:\n",
    "                break\n",
    "        cap.release()\n",
    "        out.release()\n",
    "    except Exception as e:\n",
    "        raise Exception(f\"Error sampling and recreating video: {str(e)}\")\n",
    "\n",
    "def sample_frames_dynamic_v2(video_path, output_path, target_frames=30, target_duration=30, output_fps=30):\n",
    "    try:\n",
    "        cap = cv2.VideoCapture(video_path)\n",
    "        input_fps = cap.get(cv2.CAP_PROP_FPS)\n",
    "        total_frames = int(cap.get(cv2.CAP_PROP_FRAME_COUNT))\n",
    "        width = int(cap.get(cv2.CAP_PROP_FRAME_WIDTH))\n",
    "        height = int(cap.get(cv2.CAP_PROP_FRAME_HEIGHT))\n",
    "        \n",
    "        input_duration = total_frames / input_fps      \n",
    "        target_frames = target_duration * output_fps\n",
    "        sampling_interval = max(1, total_frames / target_frames)\n",
    "        fourcc = cv2.VideoWriter_fourcc(*'mp4v')\n",
    "        out = cv2.VideoWriter(output_path, fourcc, output_fps, (width, height))\n",
    "        frame_count = 0\n",
    "        saved_count = 0\n",
    "        \n",
    "        while True:\n",
    "            ret, frame = cap.read()\n",
    "            if not ret:\n",
    "                break\n",
    "            if frame_count >= saved_count * sampling_interval and saved_count < target_frames:\n",
    "                out.write(frame)\n",
    "                saved_count += 1\n",
    "            frame_count += 1\n",
    "            if saved_count >= target_frames:\n",
    "                break\n",
    "        \n",
    "        cap.release()\n",
    "        out.release()\n",
    "        \n",
    "    except Exception as e:\n",
    "        raise Exception(f\"Error sampling and recreating video: {str(e)}\")\n",
    "\n",
    "def process_video_directory(video_dir, output_csv, max_duration=30):\n",
    "    results = []\n",
    "    temp_dir = tempfile.mkdtemp()\n",
    "    video_files = [f for f in os.listdir(video_dir) if f.endswith(('.mp4', '.avi', '.mov'))]\n",
    "    \n",
    "    for video_file in tqdm(video_files):\n",
    "        try:\n",
    "            video_path = os.path.join(video_dir, video_file)\n",
    "            print(f\"\\nProcessing {video_file}...\")\n",
    "            \n",
    "            duration = get_video_duration(video_path)\n",
    "            print(f\"Video duration: {duration:.2f} seconds\")\n",
    "            \n",
    "            if duration > max_duration:\n",
    "                sampled_frames_dir = os.path.join(temp_dir, f\"resampled_{(video_file)}\")\n",
    "                sample_frames_dynamic_v1(video_path, sampled_frames_dir)\n",
    "                process_path = sampled_frames_dir \n",
    "                print(\"Frame sampling complete\")\n",
    "            else:\n",
    "                process_path = video_path\n",
    "\n",
    "            ## uncomment for 30-second trimming\n",
    "\n",
    "            # if duration > max_duration:\n",
    "            #     print(f\"Video longer than {max_duration} seconds, trimming...\")\n",
    "            #     temp_video_path = os.path.join(temp_dir, f\"trimmed_{video_file}\")\n",
    "            #     trim_video(video_path, temp_video_path, max_duration)\n",
    "            #     process_path = temp_video_path\n",
    "            # else:\n",
    "            #     process_path = video_path\n",
    "            \n",
    "            messages = prepare_messages(process_path)\n",
    "\n",
    "            text = processor.apply_chat_template(\n",
    "                messages, tokenize=False, add_generation_prompt=True\n",
    "            )\n",
    "            image_inputs, video_inputs = process_vision_info(messages)\n",
    "            inputs = processor(\n",
    "                text=[text],\n",
    "                images=image_inputs,\n",
    "                videos=video_inputs,\n",
    "                padding=True,\n",
    "                return_tensors=\"pt\",\n",
    "            )\n",
    "            inputs = inputs.to(\"cuda\")\n",
    "\n",
    "            # Generate response\n",
    "            generated_ids = model.generate(**inputs, max_new_tokens=128)\n",
    "            generated_ids_trimmed = [\n",
    "                out_ids[len(in_ids):] for in_ids, out_ids in zip(inputs.input_ids, generated_ids)\n",
    "            ]\n",
    "            output_text = processor.batch_decode(\n",
    "                generated_ids_trimmed, skip_special_tokens=True, clean_up_tokenization_spaces=False\n",
    "            )[0]\n",
    "\n",
    "            response_lines = output_text.strip().split('\\n')\n",
    "            \n",
    "            answer = response_lines[0].split(': ')[-1].strip()\n",
    "            reason = response_lines[1].split(': ')[1].strip()\n",
    "\n",
    "            results.append({\n",
    "                'filename': video_file,\n",
    "                'duration': duration,\n",
    "                'trimmed': duration > max_duration,\n",
    "                'anomaly': answer,\n",
    "                'reason': reason,\n",
    "            })\n",
    "            \n",
    "            print(f\"Analysis complete - Anomaly detected: {answer}\")\n",
    "            \n",
    "        except Exception as e:\n",
    "            print(f\"Error processing {video_file}: {str(e)}\")\n",
    "            results.append({\n",
    "                'filename': video_file,\n",
    "                'duration': -1,\n",
    "                'trimmed': False,\n",
    "                'anomaly': 'ERROR',\n",
    "                'reason': str(e)\n",
    "            })\n",
    "\n",
    "    try:\n",
    "        import shutil\n",
    "        shutil.rmtree(temp_dir)\n",
    "        print(f\"\\nCleaned up temporary directory: {temp_dir}\")\n",
    "    except Exception as e:\n",
    "        print(f\"Error cleaning up temporary directory: {str(e)}\")\n",
    "\n",
    "    df = pd.DataFrame(results)\n",
    "    df.to_csv(output_csv, index=False)\n",
    "    print(f\"\\nResults saved to {output_csv}\")\n",
    "    return df\n",
    "\n",
    "\n",
    "VIDEO_DIR = \"/home/ubuntu/content/drive/MyDrive/shoplifting-videos\"  \n",
    "OUTPUT_CSV = \"video_analysis_results.csv\"\n",
    "MAX_DURATION = 30 \n",
    "\n",
    "results_df = process_video_directory(VIDEO_DIR, OUTPUT_CSV, MAX_DURATION)\n",
    "print(\"\\nAnalysis Summary:\")\n",
    "print(f\"Total videos processed: {len(results_df)}\")\n",
    "print(f\"Videos trimmed: {len(results_df[results_df['trimmed']])}\")\n",
    "print(f\"Anomalies detected: {len(results_df[results_df['anomaly'] == 'Yes'])}\")\n",
    "print(f\"Processing errors: {len(results_df[results_df['anomaly'] == 'ERROR'])}\")"
   ]
  },
  {
   "cell_type": "code",
   "execution_count": null,
   "id": "abad1a3a-2632-462a-aff6-02bc4bce1c2a",
   "metadata": {},
   "outputs": [],
   "source": []
  }
 ],
 "metadata": {
  "kernelspec": {
   "display_name": "Python 3 (ipykernel)",
   "language": "python",
   "name": "python3"
  },
  "language_info": {
   "codemirror_mode": {
    "name": "ipython",
    "version": 3
   },
   "file_extension": ".py",
   "mimetype": "text/x-python",
   "name": "python",
   "nbconvert_exporter": "python",
   "pygments_lexer": "ipython3",
   "version": "3.10.12"
  }
 },
 "nbformat": 4,
 "nbformat_minor": 5
}
